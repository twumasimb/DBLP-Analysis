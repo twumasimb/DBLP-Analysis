{
 "cells": [
  {
   "cell_type": "code",
   "execution_count": 1,
   "metadata": {},
   "outputs": [],
   "source": [
    "import pickle\n",
    "import networkx as nx\n",
    "import pprint\n",
    "from new_utils import Greedy\n",
    "import preprocessing as pp"
   ]
  },
  {
   "cell_type": "code",
   "execution_count": 2,
   "metadata": {},
   "outputs": [],
   "source": [
    "G = pickle.load(open('./networks/max_network_2008_to_2010.pkl', 'rb'))"
   ]
  },
  {
   "cell_type": "code",
   "execution_count": 3,
   "metadata": {},
   "outputs": [
    {
     "name": "stdout",
     "output_type": "stream",
     "text": [
      "Network Attributes\n",
      "------------------\n",
      "Num of Nodes: 1445\n",
      "Num of Edges: 425805\n"
     ]
    }
   ],
   "source": [
    "print(\"Network Attributes\")\n",
    "print(\"------------------\")\n",
    "print(f\"Num of Nodes: {G.number_of_nodes()}\")\n",
    "print(f\"Num of Edges: {G.number_of_edges()}\")"
   ]
  },
  {
   "cell_type": "code",
   "execution_count": 4,
   "metadata": {},
   "outputs": [],
   "source": [
    "# create the project networks\n",
    "list_1 = [('DM', 'T'), ('DB', 'T'), ('AI', 'T')]\n",
    "list_2 = [('DM', 'T'), ('DB', 'T'), ('AI', 'T'), ('DM', 'DB'), ('DM', 'AI'), ('DB', 'AI')]\n",
    "list_3 = [('DM', 'T'), ('DB', 'T'), ('AI', 'DB')]\n",
    "\n",
    "star_proj = pp.createProjectNetwork(list_1)\n",
    "full_proj = pp.createProjectNetwork(list_2)\n",
    "chain_proj = pp.createProjectNetwork(list_3)\n",
    "\n",
    "project_net = star_proj"
   ]
  },
  {
   "cell_type": "code",
   "execution_count": 5,
   "metadata": {},
   "outputs": [],
   "source": [
    "# G = pp.remove_edges_based_on_project_network(network.copy(), project_net)"
   ]
  },
  {
   "cell_type": "code",
   "execution_count": 6,
   "metadata": {},
   "outputs": [],
   "source": [
    "# print(\"Network Attributes\")\n",
    "# print(\"------------------\")\n",
    "# print(f\"Nun of Nodes: {G.number_of_nodes()}\")\n",
    "# print(f\"Nun of Edges: {G.number_of_edges()}\")"
   ]
  },
  {
   "cell_type": "code",
   "execution_count": 7,
   "metadata": {},
   "outputs": [],
   "source": [
    "nodes_with_label_T  = [node for node, data in G.nodes(data=True) if data.get('label') == 'T']\n",
    "nodes_with_label_DB = [node for node, data in G.nodes(data=True) if data.get('label') == 'DB']\n",
    "nodes_with_label_DM = [node for node, data in G.nodes(data=True) if data.get('label') == 'DM']\n",
    "nodes_with_label_AI = [node for node, data in G.nodes(data=True) if data.get('label') == 'AI']"
   ]
  },
  {
   "cell_type": "code",
   "execution_count": 8,
   "metadata": {},
   "outputs": [],
   "source": [
    "net_T  = G.subgraph(nodes_with_label_T)\n",
    "net_DB = G.subgraph(nodes_with_label_DB)\n",
    "net_DM = G.subgraph(nodes_with_label_DM)\n",
    "net_AI = G.subgraph(nodes_with_label_AI)"
   ]
  },
  {
   "cell_type": "code",
   "execution_count": 9,
   "metadata": {
    "vscode": {
     "languageId": "ruby"
    }
   },
   "outputs": [],
   "source": [
    "# Calculate the closeness centrality scores\n",
    "closeness_scores_T  = nx.closeness_centrality(net_T)\n",
    "closeness_scores_DB = nx.closeness_centrality(net_DB)\n",
    "closeness_scores_DM = nx.closeness_centrality(net_DM)\n",
    "closeness_scores_AI = nx.closeness_centrality(net_AI)\n",
    "\n",
    "# Assign the closeness centrality scores as node attributes\n",
    "nx.set_node_attributes(net_T,  closeness_scores_T,  'closeness_centrality')\n",
    "nx.set_node_attributes(net_DB, closeness_scores_DB, 'closeness_centrality')\n",
    "nx.set_node_attributes(net_DM, closeness_scores_DM, 'closeness_centrality')\n",
    "nx.set_node_attributes(net_AI, closeness_scores_AI, 'closeness_centrality')"
   ]
  },
  {
   "cell_type": "code",
   "execution_count": 10,
   "metadata": {},
   "outputs": [
    {
     "ename": "KeyboardInterrupt",
     "evalue": "",
     "output_type": "error",
     "traceback": [
      "\u001b[0;31m---------------------------------------------------------------------------\u001b[0m",
      "\u001b[0;31mKeyboardInterrupt\u001b[0m                         Traceback (most recent call last)",
      "Cell \u001b[0;32mIn[10], line 7\u001b[0m\n\u001b[1;32m      4\u001b[0m best_set \u001b[38;5;241m=\u001b[39m \u001b[38;5;28mset\u001b[39m()\n\u001b[1;32m      6\u001b[0m \u001b[38;5;28;01mfor\u001b[39;00m node \u001b[38;5;129;01min\u001b[39;00m top_nodes:\n\u001b[0;32m----> 7\u001b[0m     subset, commEff \u001b[38;5;241m=\u001b[39m \u001b[43mGreedy\u001b[49m\u001b[43m(\u001b[49m\u001b[43mG\u001b[49m\u001b[43m,\u001b[49m\u001b[43m \u001b[49m\u001b[43mteams\u001b[49m\u001b[43m,\u001b[49m\u001b[43m \u001b[49m\u001b[43mnode\u001b[49m\u001b[43m)\u001b[49m\n\u001b[1;32m      8\u001b[0m     \u001b[38;5;28;01mif\u001b[39;00m commEff \u001b[38;5;241m>\u001b[39m max_eff:\n\u001b[1;32m      9\u001b[0m         max_eff \u001b[38;5;241m=\u001b[39m commEff\n",
      "File \u001b[0;32m~/Projects/DBLP-Analysis/new_utils.py:106\u001b[0m, in \u001b[0;36mGreedy\u001b[0;34m(graph_G, teams, seed_node)\u001b[0m\n\u001b[1;32m    103\u001b[0m in_team_eff \u001b[38;5;241m=\u001b[39m inteamEff(graph_G, node)\n\u001b[1;32m    105\u001b[0m \u001b[38;5;66;03m#cross-team efficiency\u001b[39;00m\n\u001b[0;32m--> 106\u001b[0m cross_team_eff \u001b[38;5;241m=\u001b[39m \u001b[43mcrossTeamEff\u001b[49m\u001b[43m(\u001b[49m\u001b[43mgraph_G\u001b[49m\u001b[43m,\u001b[49m\u001b[43m \u001b[49m\u001b[43mnode\u001b[49m\u001b[43m,\u001b[49m\u001b[43m \u001b[49m\u001b[38;5;28;43mlist\u001b[39;49m\u001b[43m(\u001b[49m\u001b[43msubset\u001b[49m\u001b[43m)\u001b[49m\u001b[43m)\u001b[49m\n\u001b[1;32m    108\u001b[0m total_node_eff \u001b[38;5;241m=\u001b[39m in_team_eff \u001b[38;5;241m+\u001b[39m cross_team_eff\n\u001b[1;32m    110\u001b[0m \u001b[38;5;28;01mif\u001b[39;00m total_node_eff \u001b[38;5;241m>\u001b[39m max_eff:\n",
      "File \u001b[0;32m~/Projects/DBLP-Analysis/new_utils.py:56\u001b[0m, in \u001b[0;36mcrossTeamEff\u001b[0;34m(G, node, target_nodes)\u001b[0m\n\u001b[1;32m     54\u001b[0m shortest_path \u001b[38;5;241m=\u001b[39m nx\u001b[38;5;241m.\u001b[39mshortest_path(G, node, target)\n\u001b[1;32m     55\u001b[0m len_shortest_path \u001b[38;5;241m=\u001b[39m \u001b[38;5;28mlen\u001b[39m(shortest_path)\n\u001b[0;32m---> 56\u001b[0m sumDistance \u001b[38;5;241m=\u001b[39m \u001b[43mnx\u001b[49m\u001b[38;5;241;43m.\u001b[39;49m\u001b[43mdijkstra_path_length\u001b[49m\u001b[43m(\u001b[49m\u001b[43mG\u001b[49m\u001b[43m,\u001b[49m\u001b[43m \u001b[49m\u001b[43mnode\u001b[49m\u001b[43m,\u001b[49m\u001b[43m \u001b[49m\u001b[43mtarget\u001b[49m\u001b[43m,\u001b[49m\u001b[43m \u001b[49m\u001b[43mweight\u001b[49m\u001b[38;5;241;43m=\u001b[39;49m\u001b[38;5;124;43m'\u001b[39;49m\u001b[38;5;124;43mweight\u001b[39;49m\u001b[38;5;124;43m'\u001b[39;49m\u001b[43m)\u001b[49m\n\u001b[1;32m     57\u001b[0m closeness \u001b[38;5;241m=\u001b[39m (len_shortest_path\u001b[38;5;241m-\u001b[39m\u001b[38;5;241m1\u001b[39m)\u001b[38;5;241m/\u001b[39msumDistance\n\u001b[1;32m     58\u001b[0m total \u001b[38;5;241m+\u001b[39m\u001b[38;5;241m=\u001b[39m closeness\n",
      "File \u001b[0;32m~/.local/lib/python3.11/site-packages/networkx/utils/backends.py:412\u001b[0m, in \u001b[0;36m_dispatch.__call__\u001b[0;34m(self, backend, *args, **kwargs)\u001b[0m\n\u001b[1;32m    409\u001b[0m \u001b[38;5;28;01mdef\u001b[39;00m \u001b[38;5;21m__call__\u001b[39m(\u001b[38;5;28mself\u001b[39m, \u001b[38;5;241m/\u001b[39m, \u001b[38;5;241m*\u001b[39margs, backend\u001b[38;5;241m=\u001b[39m\u001b[38;5;28;01mNone\u001b[39;00m, \u001b[38;5;241m*\u001b[39m\u001b[38;5;241m*\u001b[39mkwargs):\n\u001b[1;32m    410\u001b[0m     \u001b[38;5;28;01mif\u001b[39;00m \u001b[38;5;129;01mnot\u001b[39;00m backends:\n\u001b[1;32m    411\u001b[0m         \u001b[38;5;66;03m# Fast path if no backends are installed\u001b[39;00m\n\u001b[0;32m--> 412\u001b[0m         \u001b[38;5;28;01mreturn\u001b[39;00m \u001b[38;5;28;43mself\u001b[39;49m\u001b[38;5;241;43m.\u001b[39;49m\u001b[43morig_func\u001b[49m\u001b[43m(\u001b[49m\u001b[38;5;241;43m*\u001b[39;49m\u001b[43margs\u001b[49m\u001b[43m,\u001b[49m\u001b[43m \u001b[49m\u001b[38;5;241;43m*\u001b[39;49m\u001b[38;5;241;43m*\u001b[39;49m\u001b[43mkwargs\u001b[49m\u001b[43m)\u001b[49m\n\u001b[1;32m    414\u001b[0m     \u001b[38;5;66;03m# Use `backend_name` in this function instead of `backend`\u001b[39;00m\n\u001b[1;32m    415\u001b[0m     backend_name \u001b[38;5;241m=\u001b[39m backend\n",
      "File \u001b[0;32m~/.local/lib/python3.11/site-packages/networkx/algorithms/shortest_paths/weighted.py:245\u001b[0m, in \u001b[0;36mdijkstra_path_length\u001b[0;34m(G, source, target, weight)\u001b[0m\n\u001b[1;32m    243\u001b[0m     \u001b[38;5;28;01mreturn\u001b[39;00m \u001b[38;5;241m0\u001b[39m\n\u001b[1;32m    244\u001b[0m weight \u001b[38;5;241m=\u001b[39m _weight_function(G, weight)\n\u001b[0;32m--> 245\u001b[0m length \u001b[38;5;241m=\u001b[39m \u001b[43m_dijkstra\u001b[49m\u001b[43m(\u001b[49m\u001b[43mG\u001b[49m\u001b[43m,\u001b[49m\u001b[43m \u001b[49m\u001b[43msource\u001b[49m\u001b[43m,\u001b[49m\u001b[43m \u001b[49m\u001b[43mweight\u001b[49m\u001b[43m,\u001b[49m\u001b[43m \u001b[49m\u001b[43mtarget\u001b[49m\u001b[38;5;241;43m=\u001b[39;49m\u001b[43mtarget\u001b[49m\u001b[43m)\u001b[49m\n\u001b[1;32m    246\u001b[0m \u001b[38;5;28;01mtry\u001b[39;00m:\n\u001b[1;32m    247\u001b[0m     \u001b[38;5;28;01mreturn\u001b[39;00m length[target]\n",
      "File \u001b[0;32m~/.local/lib/python3.11/site-packages/networkx/algorithms/shortest_paths/weighted.py:776\u001b[0m, in \u001b[0;36m_dijkstra\u001b[0;34m(G, source, weight, pred, paths, cutoff, target)\u001b[0m\n\u001b[1;32m    767\u001b[0m \u001b[38;5;28;01mdef\u001b[39;00m \u001b[38;5;21m_dijkstra\u001b[39m(G, source, weight, pred\u001b[38;5;241m=\u001b[39m\u001b[38;5;28;01mNone\u001b[39;00m, paths\u001b[38;5;241m=\u001b[39m\u001b[38;5;28;01mNone\u001b[39;00m, cutoff\u001b[38;5;241m=\u001b[39m\u001b[38;5;28;01mNone\u001b[39;00m, target\u001b[38;5;241m=\u001b[39m\u001b[38;5;28;01mNone\u001b[39;00m):\n\u001b[1;32m    768\u001b[0m \u001b[38;5;250m    \u001b[39m\u001b[38;5;124;03m\"\"\"Uses Dijkstra's algorithm to find shortest weighted paths from a\u001b[39;00m\n\u001b[1;32m    769\u001b[0m \u001b[38;5;124;03m    single source.\u001b[39;00m\n\u001b[1;32m    770\u001b[0m \n\u001b[0;32m   (...)\u001b[0m\n\u001b[1;32m    774\u001b[0m \n\u001b[1;32m    775\u001b[0m \u001b[38;5;124;03m    \"\"\"\u001b[39;00m\n\u001b[0;32m--> 776\u001b[0m     \u001b[38;5;28;01mreturn\u001b[39;00m \u001b[43m_dijkstra_multisource\u001b[49m\u001b[43m(\u001b[49m\n\u001b[1;32m    777\u001b[0m \u001b[43m        \u001b[49m\u001b[43mG\u001b[49m\u001b[43m,\u001b[49m\u001b[43m \u001b[49m\u001b[43m[\u001b[49m\u001b[43msource\u001b[49m\u001b[43m]\u001b[49m\u001b[43m,\u001b[49m\u001b[43m \u001b[49m\u001b[43mweight\u001b[49m\u001b[43m,\u001b[49m\u001b[43m \u001b[49m\u001b[43mpred\u001b[49m\u001b[38;5;241;43m=\u001b[39;49m\u001b[43mpred\u001b[49m\u001b[43m,\u001b[49m\u001b[43m \u001b[49m\u001b[43mpaths\u001b[49m\u001b[38;5;241;43m=\u001b[39;49m\u001b[43mpaths\u001b[49m\u001b[43m,\u001b[49m\u001b[43m \u001b[49m\u001b[43mcutoff\u001b[49m\u001b[38;5;241;43m=\u001b[39;49m\u001b[43mcutoff\u001b[49m\u001b[43m,\u001b[49m\u001b[43m \u001b[49m\u001b[43mtarget\u001b[49m\u001b[38;5;241;43m=\u001b[39;49m\u001b[43mtarget\u001b[49m\n\u001b[1;32m    778\u001b[0m \u001b[43m    \u001b[49m\u001b[43m)\u001b[49m\n",
      "File \u001b[0;32m~/.local/lib/python3.11/site-packages/networkx/algorithms/shortest_paths/weighted.py:855\u001b[0m, in \u001b[0;36m_dijkstra_multisource\u001b[0;34m(G, sources, weight, pred, paths, cutoff, target)\u001b[0m\n\u001b[1;32m    853\u001b[0m     \u001b[38;5;28;01mbreak\u001b[39;00m\n\u001b[1;32m    854\u001b[0m \u001b[38;5;28;01mfor\u001b[39;00m u, e \u001b[38;5;129;01min\u001b[39;00m G_succ[v]\u001b[38;5;241m.\u001b[39mitems():\n\u001b[0;32m--> 855\u001b[0m     cost \u001b[38;5;241m=\u001b[39m \u001b[43mweight\u001b[49m\u001b[43m(\u001b[49m\u001b[43mv\u001b[49m\u001b[43m,\u001b[49m\u001b[43m \u001b[49m\u001b[43mu\u001b[49m\u001b[43m,\u001b[49m\u001b[43m \u001b[49m\u001b[43me\u001b[49m\u001b[43m)\u001b[49m\n\u001b[1;32m    856\u001b[0m     \u001b[38;5;28;01mif\u001b[39;00m cost \u001b[38;5;129;01mis\u001b[39;00m \u001b[38;5;28;01mNone\u001b[39;00m:\n\u001b[1;32m    857\u001b[0m         \u001b[38;5;28;01mcontinue\u001b[39;00m\n",
      "File \u001b[0;32m~/.local/lib/python3.11/site-packages/networkx/algorithms/shortest_paths/weighted.py:78\u001b[0m, in \u001b[0;36m_weight_function.<locals>.<lambda>\u001b[0;34m(u, v, data)\u001b[0m\n\u001b[1;32m     76\u001b[0m \u001b[38;5;28;01mif\u001b[39;00m G\u001b[38;5;241m.\u001b[39mis_multigraph():\n\u001b[1;32m     77\u001b[0m     \u001b[38;5;28;01mreturn\u001b[39;00m \u001b[38;5;28;01mlambda\u001b[39;00m u, v, d: \u001b[38;5;28mmin\u001b[39m(attr\u001b[38;5;241m.\u001b[39mget(weight, \u001b[38;5;241m1\u001b[39m) \u001b[38;5;28;01mfor\u001b[39;00m attr \u001b[38;5;129;01min\u001b[39;00m d\u001b[38;5;241m.\u001b[39mvalues())\n\u001b[0;32m---> 78\u001b[0m \u001b[38;5;28;01mreturn\u001b[39;00m \u001b[38;5;28;01mlambda\u001b[39;00m u, v, data: data\u001b[38;5;241m.\u001b[39mget(weight, \u001b[38;5;241m1\u001b[39m)\n",
      "\u001b[0;31mKeyboardInterrupt\u001b[0m: "
     ]
    }
   ],
   "source": [
    "teams = ['DM', 'T', 'DB', 'AI']\n",
    "top_nodes = [node for node in G.nodes if G.nodes[node]['closeness_centrality'] == 1.0]\n",
    "max_eff = float('-inf')\n",
    "best_set = set()\n",
    "\n",
    "for node in top_nodes:\n",
    "    subset, commEff = Greedy(G, teams, node)\n",
    "    if commEff > max_eff:\n",
    "        max_eff = commEff\n",
    "        best_set = subset\n",
    "\n",
    "print(f\"Best Set of Leaders: {best_set}, Efficiency: {max_eff}\")"
   ]
  }
 ],
 "metadata": {
  "kernelspec": {
   "display_name": "base",
   "language": "python",
   "name": "python3"
  },
  "language_info": {
   "codemirror_mode": {
    "name": "ipython",
    "version": 3
   },
   "file_extension": ".py",
   "mimetype": "text/x-python",
   "name": "python",
   "nbconvert_exporter": "python",
   "pygments_lexer": "ipython3",
   "version": "3.11.5"
  }
 },
 "nbformat": 4,
 "nbformat_minor": 2
}
