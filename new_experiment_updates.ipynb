{
 "cells": [
  {
   "cell_type": "code",
   "execution_count": null,
   "metadata": {},
   "outputs": [],
   "source": [
    "import pickle\n",
    "import networkx as nx\n",
    "import pprint\n",
    "from new_utils import Greedy\n",
    "import preprocessing as pp"
   ]
  },
  {
   "cell_type": "code",
   "execution_count": null,
   "metadata": {},
   "outputs": [],
   "source": [
    "G = pickle.load(open('./networks/max_network_2008_to_2010.pkl', 'rb'))"
   ]
  },
  {
   "cell_type": "code",
   "execution_count": null,
   "metadata": {},
   "outputs": [],
   "source": [
    "print(\"Network Attributes\")\n",
    "print(\"------------------\")\n",
    "print(f\"Num of Nodes: {G.number_of_nodes()}\")\n",
    "print(f\"Num of Edges: {G.number_of_edges()}\")"
   ]
  },
  {
   "cell_type": "code",
   "execution_count": null,
   "metadata": {},
   "outputs": [],
   "source": [
    "# create the project networks\n",
    "list_1 = [('DM', 'T'), ('DB', 'T'), ('AI', 'T')]\n",
    "list_2 = [('DM', 'T'), ('DB', 'T'), ('AI', 'T'), ('DM', 'DB'), ('DM', 'AI'), ('DB', 'AI')]\n",
    "list_3 = [('DM', 'T'), ('DB', 'T'), ('AI', 'DB')]\n",
    "\n",
    "star_proj = pp.createProjectNetwork(list_1)\n",
    "full_proj = pp.createProjectNetwork(list_2)\n",
    "chain_proj = pp.createProjectNetwork(list_3)\n",
    "\n",
    "project_net = star_proj"
   ]
  },
  {
   "cell_type": "code",
   "execution_count": null,
   "metadata": {},
   "outputs": [],
   "source": [
    "# G = pp.remove_edges_based_on_project_network(network.copy(), project_net)"
   ]
  },
  {
   "cell_type": "code",
   "execution_count": null,
   "metadata": {},
   "outputs": [],
   "source": [
    "# print(\"Network Attributes\")\n",
    "# print(\"------------------\")\n",
    "# print(f\"Nun of Nodes: {G.number_of_nodes()}\")\n",
    "# print(f\"Nun of Edges: {G.number_of_edges()}\")"
   ]
  },
  {
   "cell_type": "code",
   "execution_count": null,
   "metadata": {},
   "outputs": [],
   "source": [
    "nodes_with_label_T  = [node for node, data in G.nodes(data=True) if data.get('label') == 'T']\n",
    "nodes_with_label_DB = [node for node, data in G.nodes(data=True) if data.get('label') == 'DB']\n",
    "nodes_with_label_DM = [node for node, data in G.nodes(data=True) if data.get('label') == 'DM']\n",
    "nodes_with_label_AI = [node for node, data in G.nodes(data=True) if data.get('label') == 'AI']"
   ]
  },
  {
   "cell_type": "code",
   "execution_count": null,
   "metadata": {},
   "outputs": [],
   "source": [
    "net_T  = G.subgraph(nodes_with_label_T)\n",
    "net_DB = G.subgraph(nodes_with_label_DB)\n",
    "net_DM = G.subgraph(nodes_with_label_DM)\n",
    "net_AI = G.subgraph(nodes_with_label_AI)"
   ]
  },
  {
   "cell_type": "code",
   "execution_count": null,
   "metadata": {
    "vscode": {
     "languageId": "ruby"
    }
   },
   "outputs": [],
   "source": [
    "# Calculate the closeness centrality scores\n",
    "closeness_scores_T  = nx.closeness_centrality(net_T)\n",
    "closeness_scores_DB = nx.closeness_centrality(net_DB)\n",
    "closeness_scores_DM = nx.closeness_centrality(net_DM)\n",
    "closeness_scores_AI = nx.closeness_centrality(net_AI)\n",
    "\n",
    "# Assign the closeness centrality scores as node attributes\n",
    "nx.set_node_attributes(net_T,  closeness_scores_T,  'closeness_centrality')\n",
    "nx.set_node_attributes(net_DB, closeness_scores_DB, 'closeness_centrality')\n",
    "nx.set_node_attributes(net_DM, closeness_scores_DM, 'closeness_centrality')\n",
    "nx.set_node_attributes(net_AI, closeness_scores_AI, 'closeness_centrality')"
   ]
  },
  {
   "cell_type": "code",
   "execution_count": null,
   "metadata": {},
   "outputs": [],
   "source": [
    "teams = ['DM', 'T', 'DB', 'AI']\n",
    "top_nodes = [node for node in G.nodes if G.nodes[node]['closeness_centrality'] == 1.0]\n",
    "max_eff = float('-inf')\n",
    "best_set = set()\n",
    "\n",
    "for node in top_nodes:\n",
    "    subset, commEff = Greedy(G, teams, node)\n",
    "    if commEff > max_eff:\n",
    "        max_eff = commEff\n",
    "        best_set = subset\n",
    "\n",
    "print(f\"Best Set of Leaders: {best_set}, Efficiency: {max_eff}\")"
   ]
  }
 ],
 "metadata": {
  "kernelspec": {
   "display_name": "base",
   "language": "python",
   "name": "python3"
  },
  "language_info": {
   "codemirror_mode": {
    "name": "ipython",
    "version": 3
   },
   "file_extension": ".py",
   "mimetype": "text/x-python",
   "name": "python",
   "nbconvert_exporter": "python",
   "pygments_lexer": "ipython3",
   "version": "3.11.5"
  }
 },
 "nbformat": 4,
 "nbformat_minor": 2
}
