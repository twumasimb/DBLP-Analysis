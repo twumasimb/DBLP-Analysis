{
 "cells": [
  {
   "cell_type": "code",
   "execution_count": 26,
   "metadata": {},
   "outputs": [],
   "source": [
    "import pickle\n",
    "import networkx as nx\n",
    "import pprint\n",
    "from new_utils import Greedy\n",
    "import preprocessing as pp\n",
    "import numpy as np\n",
    "import random\n",
    "from collections import Counter"
   ]
  },
  {
   "cell_type": "code",
   "execution_count": 2,
   "metadata": {},
   "outputs": [],
   "source": [
    "network = pickle.load(open('./networks/test_net_2008_to_2010.pkl', 'rb'))\n",
    "G = network.copy()"
   ]
  },
  {
   "cell_type": "code",
   "execution_count": 3,
   "metadata": {},
   "outputs": [
    {
     "name": "stdout",
     "output_type": "stream",
     "text": [
      "Network Attributes\n",
      "------------------\n",
      "Num of Nodes: 219\n",
      "Num of Edges: 8771\n"
     ]
    }
   ],
   "source": [
    "print(\"Network Attributes\")\n",
    "print(\"------------------\")\n",
    "print(f\"Num of Nodes: {G.number_of_nodes()}\")\n",
    "print(f\"Num of Edges: {G.number_of_edges()}\")"
   ]
  },
  {
   "cell_type": "code",
   "execution_count": 27,
   "metadata": {},
   "outputs": [
    {
     "data": {
      "text/plain": [
       "{'AI': 28, 'T': 41, 'DB': 134, 'DM': 16}"
      ]
     },
     "execution_count": 27,
     "metadata": {},
     "output_type": "execute_result"
    }
   ],
   "source": [
    "label_counts = nx.get_node_attributes(G, 'label')\n",
    "label_counts = dict(Counter(label_counts.values()))\n",
    "label_counts"
   ]
  },
  {
   "cell_type": "code",
   "execution_count": 4,
   "metadata": {},
   "outputs": [],
   "source": [
    "# create the project networks\n",
    "list_1 = [('DM', 'T'), ('DB', 'T'), ('AI', 'T')]\n",
    "list_2 = [('DM', 'T'), ('DB', 'T'), ('AI', 'T'), ('DM', 'DB'), ('DM', 'AI'), ('DB', 'AI')]\n",
    "list_3 = [('DM', 'T'), ('DB', 'T'), ('AI', 'DB')]\n",
    "\n",
    "star_proj = pp.createProjectNetwork(list_1)\n",
    "full_proj = pp.createProjectNetwork(list_2)\n",
    "chain_proj = pp.createProjectNetwork(list_3)\n",
    "\n",
    "project_net = chain_proj"
   ]
  },
  {
   "cell_type": "code",
   "execution_count": 5,
   "metadata": {},
   "outputs": [],
   "source": [
    "G = pp.remove_edges_based_on_project_network(network.copy(), project_net)"
   ]
  },
  {
   "cell_type": "code",
   "execution_count": 6,
   "metadata": {},
   "outputs": [
    {
     "name": "stdout",
     "output_type": "stream",
     "text": [
      "Network Attributes\n",
      "------------------\n",
      "Nun of Nodes: 219\n",
      "Nun of Edges: 7900\n"
     ]
    }
   ],
   "source": [
    "print(\"Network Attributes\")\n",
    "print(\"------------------\")\n",
    "print(f\"Nun of Nodes: {G.number_of_nodes()}\")\n",
    "print(f\"Nun of Edges: {G.number_of_edges()}\")"
   ]
  },
  {
   "cell_type": "code",
   "execution_count": 7,
   "metadata": {},
   "outputs": [],
   "source": [
    "nodes_with_label_T  = [node for node, data in G.nodes(data=True) if data.get('label') == 'T']\n",
    "nodes_with_label_DB = [node for node, data in G.nodes(data=True) if data.get('label') == 'DB']\n",
    "nodes_with_label_DM = [node for node, data in G.nodes(data=True) if data.get('label') == 'DM']\n",
    "nodes_with_label_AI = [node for node, data in G.nodes(data=True) if data.get('label') == 'AI']"
   ]
  },
  {
   "cell_type": "code",
   "execution_count": 8,
   "metadata": {},
   "outputs": [],
   "source": [
    "net_T  = G.subgraph(nodes_with_label_T)\n",
    "net_DB = G.subgraph(nodes_with_label_DB)\n",
    "net_DM = G.subgraph(nodes_with_label_DM)\n",
    "net_AI = G.subgraph(nodes_with_label_AI)"
   ]
  },
  {
   "cell_type": "code",
   "execution_count": 9,
   "metadata": {},
   "outputs": [],
   "source": [
    "# closeness_centrality = nx.closeness_centrality(net_T)  # Compute closeness centrality\n",
    "\n",
    "# # Assign closeness centrality as a node attribute\n",
    "# nx.set_node_attributes(G, closeness_centrality, 'closeness_centrality')\n",
    "\n",
    "# # Extract closeness centrality values and calculate mean and std deviation\n",
    "# cc_values = np.array(list(closeness_centrality.values()))\n",
    "# mean = np.mean(cc_values)\n",
    "# std_dev = np.std(cc_values)\n",
    "\n",
    "# # Define the number of nodes to select\n",
    "# x = 10\n",
    "\n",
    "# # Generate x random values from a normal distribution\n",
    "# random_cc_values = [random.gauss(mean, std_dev) for _ in range(x)]\n",
    "\n",
    "# # Select nodes closest to the generated random closeness centrality values\n",
    "# selected_nodes = []\n",
    "\n",
    "# # For each random value, find the node with the closest closeness centrality\n",
    "# for random_value in random_cc_values:\n",
    "#     closest_node = min(closeness_centrality.keys(), \n",
    "#                        key=lambda n: abs(closeness_centrality[n] - random_value))\n",
    "#     selected_nodes.append(closest_node)\n",
    "\n",
    "# # Output the selected nodes\n",
    "# print(f\"The selected nodes are: {selected_nodes}\")\n",
    "# len(set(selected_nodes))"
   ]
  },
  {
   "cell_type": "code",
   "execution_count": 10,
   "metadata": {},
   "outputs": [],
   "source": [
    "# import networkx as nx\n",
    "\n",
    "# import matplotlib.pyplot as plt\n",
    "\n",
    "# # Create a figure and axis\n",
    "# fig, ax = plt.subplots(figsize=(8, 6))\n",
    "\n",
    "# # Plot the network\n",
    "# nx.draw(network.subgraph(selected_nodes), with_labels=True, ax=ax)\n",
    "\n",
    "# # Show the plot\n",
    "# plt.show()"
   ]
  },
  {
   "cell_type": "code",
   "execution_count": 11,
   "metadata": {},
   "outputs": [],
   "source": [
    "# print(nx.closeness_centrality(network.subgraph(selected_nodes)))"
   ]
  },
  {
   "cell_type": "code",
   "execution_count": 12,
   "metadata": {
    "vscode": {
     "languageId": "ruby"
    }
   },
   "outputs": [],
   "source": [
    "# Calculate the closeness centrality scores\n",
    "closeness_scores_T  = nx.closeness_centrality(net_T)\n",
    "closeness_scores_DB = nx.closeness_centrality(net_DB)\n",
    "closeness_scores_DM = nx.closeness_centrality(net_DM)\n",
    "closeness_scores_AI = nx.closeness_centrality(net_AI)\n",
    "\n",
    "# Assign the closeness centrality scores as node attributes\n",
    "nx.set_node_attributes(net_T,  closeness_scores_T,  'closeness_centrality')\n",
    "nx.set_node_attributes(net_DB, closeness_scores_DB, 'closeness_centrality')\n",
    "nx.set_node_attributes(net_DM, closeness_scores_DM, 'closeness_centrality')\n",
    "nx.set_node_attributes(net_AI, closeness_scores_AI, 'closeness_centrality')"
   ]
  },
  {
   "cell_type": "code",
   "execution_count": 13,
   "metadata": {
    "vscode": {
     "languageId": "ruby"
    }
   },
   "outputs": [],
   "source": [
    "top_nodes = [node for node in net_T.nodes if net_T.nodes[node]['closeness_centrality'] == 1.0]"
   ]
  },
  {
   "cell_type": "code",
   "execution_count": 14,
   "metadata": {
    "vscode": {
     "languageId": "ruby"
    }
   },
   "outputs": [
    {
     "name": "stdout",
     "output_type": "stream",
     "text": [
      "The node with the highest closeness centrality score in closeness_scores_AI is: Inderjit S. Dhillon\n",
      "The node with the highest closeness centrality score in closeness_scores_DB is: Ke Yi\n",
      "The node with the highest closeness centrality score in closeness_scores_DM is: Xindong Wu\n",
      "The node with the highest closeness centrality score in closeness_scores_T is: Ravi Kumar\n"
     ]
    }
   ],
   "source": [
    "# For closeness_scores_AI\n",
    "max_closeness_scores_AI = max(closeness_scores_AI, key=lambda node: closeness_scores_AI[node])\n",
    "\n",
    "# For closeness_scores_DB\n",
    "max_closeness_scores_DB = max(closeness_scores_DB, key=lambda node: closeness_scores_DB[node])\n",
    "\n",
    "# For closeness_scores_DM\n",
    "max_closeness_scores_DM = max(closeness_scores_DM, key=lambda node: closeness_scores_DM[node])\n",
    "\n",
    "# For closeness_scores_T\n",
    "max_closeness_scores_T = max(closeness_scores_T, key=lambda node: closeness_scores_T[node])\n",
    "\n",
    "# Output the nodes with the highest closeness centrality scores\n",
    "print(f\"The node with the highest closeness centrality score in closeness_scores_AI is: {max_closeness_scores_AI}\")\n",
    "print(f\"The node with the highest closeness centrality score in closeness_scores_DB is: {max_closeness_scores_DB}\")\n",
    "print(f\"The node with the highest closeness centrality score in closeness_scores_DM is: {max_closeness_scores_DM}\")\n",
    "print(f\"The node with the highest closeness centrality score in closeness_scores_T is: {max_closeness_scores_T}\")"
   ]
  },
  {
   "cell_type": "code",
   "execution_count": 15,
   "metadata": {
    "vscode": {
     "languageId": "ruby"
    }
   },
   "outputs": [
    {
     "name": "stdout",
     "output_type": "stream",
     "text": [
      "['Xindong Wu', 'Zhi-Hua Zhou', 'Shuicheng Yan']\n"
     ]
    }
   ],
   "source": [
    "DM_top_nodes =[]\n",
    "for node in net_DM.nodes():\n",
    "    if net_DM.nodes[node]['closeness_centrality'] == G.nodes[max_closeness_scores_DM]['closeness_centrality']:\n",
    "        DM_top_nodes.append(node)\n",
    "\n",
    "print(DM_top_nodes)"
   ]
  },
  {
   "cell_type": "code",
   "execution_count": 16,
   "metadata": {
    "vscode": {
     "languageId": "ruby"
    }
   },
   "outputs": [
    {
     "name": "stdout",
     "output_type": "stream",
     "text": [
      "['Inderjit S. Dhillon', 'Jason Weston', 'Rong Jin', 'Yong Yu', 'Michael L. Littman', 'Michael I. Jordan', 'James T. Kwok', 'Qiang Yang', 'Masashi Sugiyama']\n"
     ]
    }
   ],
   "source": [
    "AI_top_nodes =[]\n",
    "for node in net_AI.nodes():\n",
    "    if net_AI.nodes[node]['closeness_centrality'] == G.nodes[max_closeness_scores_AI]['closeness_centrality']:\n",
    "        AI_top_nodes.append(node)\n",
    "\n",
    "print(AI_top_nodes)"
   ]
  },
  {
   "cell_type": "code",
   "execution_count": 17,
   "metadata": {
    "vscode": {
     "languageId": "ruby"
    }
   },
   "outputs": [
    {
     "name": "stdout",
     "output_type": "stream",
     "text": [
      "['Ke Yi']\n"
     ]
    }
   ],
   "source": [
    "DB_top_nodes =[]\n",
    "for node in net_DB.nodes():\n",
    "    if net_DB.nodes[node]['closeness_centrality'] == G.nodes[max_closeness_scores_DB]['closeness_centrality']:\n",
    "        DB_top_nodes.append(node)\n",
    "\n",
    "print(DB_top_nodes)"
   ]
  },
  {
   "cell_type": "code",
   "execution_count": 18,
   "metadata": {
    "vscode": {
     "languageId": "ruby"
    }
   },
   "outputs": [
    {
     "name": "stdout",
     "output_type": "stream",
     "text": [
      "['Ravi Kumar']\n"
     ]
    }
   ],
   "source": [
    "T_top_nodes = []\n",
    "for node in net_T.nodes():\n",
    "    if net_T.nodes[node]['closeness_centrality'] == G.nodes[max_closeness_scores_T]['closeness_centrality']:\n",
    "        T_top_nodes.append(node)\n",
    "\n",
    "print(T_top_nodes)"
   ]
  },
  {
   "cell_type": "code",
   "execution_count": 19,
   "metadata": {
    "vscode": {
     "languageId": "ruby"
    }
   },
   "outputs": [
    {
     "name": "stdout",
     "output_type": "stream",
     "text": [
      "14\n"
     ]
    }
   ],
   "source": [
    "top_nodes = DM_top_nodes + T_top_nodes + AI_top_nodes + DB_top_nodes\n",
    "print(len(top_nodes))"
   ]
  },
  {
   "cell_type": "code",
   "execution_count": 20,
   "metadata": {},
   "outputs": [
    {
     "name": "stdout",
     "output_type": "stream",
     "text": [
      "Best Set of Leaders: {'Jiawei Han', 'Amin Saberi', 'Michael I. Jordan', 'Zhi-Hua Zhou'}, Efficiency: 10.4061\n"
     ]
    }
   ],
   "source": [
    "teams = ['DM', 'T', 'DB', 'AI']\n",
    "top_nodes = top_nodes\n",
    "max_eff = float('-inf')\n",
    "best_set = set()\n",
    "\n",
    "for node in top_nodes:\n",
    "    subset, commEff = Greedy(G, teams, node)\n",
    "    if commEff > max_eff:\n",
    "        max_eff = commEff\n",
    "        best_set = subset\n",
    "\n",
    "print(f\"Best Set of Leaders: {best_set}, Efficiency: {max_eff}\")"
   ]
  },
  {
   "cell_type": "code",
   "execution_count": 21,
   "metadata": {},
   "outputs": [
    {
     "data": {
      "image/png": "[encoded data removed]",
      "text/plain": [
       "<Figure size 1000x800 with 1 Axes>"
      ]
     },
     "metadata": {},
     "output_type": "display_data"
    }
   ],
   "source": [
    "import networkx as nx\n",
    "\n",
    "import matplotlib.pyplot as plt\n",
    "\n",
    "# Create a figure and axis\n",
    "fig, ax = plt.subplots(figsize=(10, 8))\n",
    "\n",
    "# Plot the network\n",
    "nx.draw(G.subgraph(list(best_set)), with_labels=True, ax=ax)\n",
    "\n",
    "# Show the plot\n",
    "plt.show()"
   ]
  },
  {
   "cell_type": "code",
   "execution_count": 22,
   "metadata": {},
   "outputs": [
    {
     "data": {
      "text/plain": [
       "{'label': 'T', 'closeness_centrality': 0.7692307692307693}"
      ]
     },
     "execution_count": 22,
     "metadata": {},
     "output_type": "execute_result"
    }
   ],
   "source": [
    "G.nodes['Robert Kleinberg']"
   ]
  },
  {
   "cell_type": "code",
   "execution_count": 23,
   "metadata": {},
   "outputs": [
    {
     "data": {
      "text/plain": [
       "0.1279"
      ]
     },
     "execution_count": 23,
     "metadata": {},
     "output_type": "execute_result"
    }
   ],
   "source": [
    "from new_utils import crossTeamEff\n",
    "target = ['Robert Kleinberg']\n",
    "source = 'Eric P. Xing'\n",
    "crossTeamEff(G, source, target)"
   ]
  },
  {
   "cell_type": "code",
   "execution_count": 36,
   "metadata": {},
   "outputs": [],
   "source": [
    "def commEff(G, leaders:list):\n",
    "    inTeam = 0.0\n",
    "    crossTeam = 0.0\n",
    "    for node in leaders:\n",
    "        inTeam += G.nodes[node]['closeness_centrality']\n",
    "\n",
    "    leaders[0]\n",
    "    for leader in leaders[1:]:\n",
    "        shortest_path = nx.shortest_path(G, leaders[0], leader)\n",
    "        len_shortest_path = len(shortest_path)\n",
    "        sumDistance = nx.dijkstra_path_length(G, leaders[0], leader, weight='weight')\n",
    "        closeness = (len_shortest_path)/sumDistance\n",
    "        crossTeam += closeness\n",
    "        print(f\"{leaders[0]} --> {leader}: length: {len_shortest_path}, distance: {sumDistance}, closeness: {closeness}\")\n",
    "    return round(10*(crossTeam/(len(leaders)-1)) + inTeam, 4)"
   ]
  },
  {
   "cell_type": "code",
   "execution_count": 30,
   "metadata": {},
   "outputs": [
    {
     "data": {
      "text/plain": [
       "{'Amin Saberi', 'Jiawei Han', 'Michael I. Jordan', 'Zhi-Hua Zhou'}"
      ]
     },
     "execution_count": 30,
     "metadata": {},
     "output_type": "execute_result"
    }
   ],
   "source": [
    "best_set"
   ]
  },
  {
   "cell_type": "code",
   "execution_count": 31,
   "metadata": {},
   "outputs": [],
   "source": [
    "leader = list(best_set)"
   ]
  },
  {
   "cell_type": "code",
   "execution_count": 33,
   "metadata": {},
   "outputs": [
    {
     "data": {
      "text/plain": [
       "['Amin Saberi', 'Michael I. Jordan', 'Zhi-Hua Zhou']"
      ]
     },
     "execution_count": 33,
     "metadata": {},
     "output_type": "execute_result"
    }
   ],
   "source": [
    "leader[1:]"
   ]
  },
  {
   "cell_type": "code",
   "execution_count": 35,
   "metadata": {},
   "outputs": [
    {
     "data": {
      "text/plain": [
       "219"
      ]
     },
     "execution_count": 35,
     "metadata": {},
     "output_type": "execute_result"
    }
   ],
   "source": [
    "G.number_of_nodes()"
   ]
  },
  {
   "cell_type": "code",
   "execution_count": 37,
   "metadata": {},
   "outputs": [
    {
     "name": "stdout",
     "output_type": "stream",
     "text": [
      "Jiawei Han --> Amin Saberi: length: 2, distance: 7.140000000000001, closeness: 0.2801120448179272\n",
      "Jiawei Han --> Michael I. Jordan: length: 2, distance: 5.56, closeness: 0.3597122302158274\n",
      "Jiawei Han --> Zhi-Hua Zhou: length: 3, distance: 20.47, closeness: 0.14655593551538837\n"
     ]
    },
    {
     "data": {
      "text/plain": [
       "6.1911"
      ]
     },
     "execution_count": 37,
     "metadata": {},
     "output_type": "execute_result"
    }
   ],
   "source": [
    "commEff(G, list(best_set))"
   ]
  },
  {
   "cell_type": "markdown",
   "metadata": {},
   "source": [
    "#### RANDOM EXPERIMENT"
   ]
  },
  {
   "cell_type": "code",
   "execution_count": null,
   "metadata": {},
   "outputs": [],
   "source": []
  }
 ],
 "metadata": {
  "kernelspec": {
   "display_name": "base",
   "language": "python",
   "name": "python3"
  },
  "language_info": {
   "codemirror_mode": {
    "name": "ipython",
    "version": 3
   },
   "file_extension": ".py",
   "mimetype": "text/x-python",
   "name": "python",
   "nbconvert_exporter": "python",
   "pygments_lexer": "ipython3",
   "version": "3.11.5"
  }
 },
 "nbformat": 4,
 "nbformat_minor": 2
}
