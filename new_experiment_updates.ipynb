{
 "cells": [
  {
   "cell_type": "code",
   "execution_count": 1,
   "metadata": {},
   "outputs": [],
   "source": [
    "import pickle\n",
    "import networkx as nx\n",
    "import pprint\n",
    "from new_utils import (Greedy, simple_random_selection, \n",
    "                       analyze_network_by_labels, find_best_set_of_leaders, \n",
    "                       get_connected_subgraph, select_nodes_by_label, comm_eff, \n",
    "                       randomAlgo, create_unique_label_combinations)\n",
    "import preprocessing as pp\n",
    "import numpy as np\n",
    "import random\n",
    "from collections import Counter\n",
    "import matplotlib.pyplot as plt"
   ]
  },
  {
   "cell_type": "code",
   "execution_count": 2,
   "metadata": {},
   "outputs": [],
   "source": [
    "network = pickle.load(open('./networks/test_net_2005_to_2010.pkl', 'rb'))\n",
    "G = network.copy()"
   ]
  },
  {
   "cell_type": "code",
   "execution_count": 3,
   "metadata": {},
   "outputs": [
    {
     "name": "stdout",
     "output_type": "stream",
     "text": [
      "Network Attributes\n",
      "------------------\n",
      "Num of Nodes: 659\n",
      "Num of Edges: 43879\n"
     ]
    }
   ],
   "source": [
    "print(\"Network Attributes\")\n",
    "print(\"------------------\")\n",
    "print(f\"Num of Nodes: {G.number_of_nodes()}\")\n",
    "print(f\"Num of Edges: {G.number_of_edges()}\")"
   ]
  },
  {
   "cell_type": "code",
   "execution_count": 4,
   "metadata": {},
   "outputs": [
    {
     "data": {
      "text/plain": [
       "{'AI': 108, 'DM': 60, 'DB': 322, 'T': 169}"
      ]
     },
     "execution_count": 4,
     "metadata": {},
     "output_type": "execute_result"
    }
   ],
   "source": [
    "label_counts = nx.get_node_attributes(G, 'label')\n",
    "label_counts = dict(Counter(label_counts.values()))\n",
    "label_counts"
   ]
  },
  {
   "cell_type": "code",
   "execution_count": 5,
   "metadata": {},
   "outputs": [],
   "source": [
    "# create the project networks\n",
    "list_1 = [('DM', 'T'), ('DB', 'T'), ('AI', 'T')]\n",
    "list_2 = [('DM', 'T'), ('DB', 'T'), ('AI', 'T'), ('DM', 'DB'), ('DM', 'AI'), ('DB', 'AI')]\n",
    "list_3 = [('DM', 'AI'), ('DB', 'T'), ('AI', 'DB')]\n",
    "\n",
    "star_proj = pp.createProjectNetwork(list_1)\n",
    "full_proj = pp.createProjectNetwork(list_2)\n",
    "chain_proj = pp.createProjectNetwork(list_3)\n",
    "\n",
    "project_net = chain_proj\n",
    "shape = 'star'"
   ]
  },
  {
   "cell_type": "code",
   "execution_count": 6,
   "metadata": {},
   "outputs": [],
   "source": [
    "# G = pp.remove_edges_based_on_project_network(network.copy(), project_net)"
   ]
  },
  {
   "cell_type": "code",
   "execution_count": 7,
   "metadata": {},
   "outputs": [
    {
     "name": "stdout",
     "output_type": "stream",
     "text": [
      "Network Attributes\n",
      "------------------\n",
      "Nun of Nodes: 659\n",
      "Nun of Edges: 43879\n"
     ]
    }
   ],
   "source": [
    "print(\"Network Attributes\")\n",
    "print(\"------------------\")\n",
    "print(f\"Nun of Nodes: {G.number_of_nodes()}\")\n",
    "print(f\"Nun of Edges: {G.number_of_edges()}\")"
   ]
  },
  {
   "cell_type": "code",
   "execution_count": 8,
   "metadata": {},
   "outputs": [],
   "source": [
    "# results, top_nodes = analyze_network_by_labels(G)\n",
    "\n",
    "# print(\"---Influence Greedy---\")\n",
    "# best_set, max_eff = find_best_set_of_leaders(G, top_nodes)\n",
    "# print(f\"Best Set of Leaders: {best_set}, Efficiency: {max_eff}\")\n",
    "# print(f\"Nodes not in top nodes: {best_set - set(top_nodes)}\")\n",
    "# print(\"\\n\")\n",
    "\n",
    "# # Testing out some of the top nodes combinations\n",
    "# print(\"--Influence Only---\")\n",
    "# combinations = create_unique_label_combinations(G, top_nodes)\n",
    "# total = 0.0\n",
    "# iters = 0\n",
    "# print(f\"Total combinations: {len(combinations)}\")\n",
    "# for i, combo in enumerate(combinations[:100], 1):  # Print first 5 combinations\n",
    "#     nodes = [node['id'] for node in combo]\n",
    "#     # print(f\"{nodes}: --> Efficiency : {comm_eff(net_10, nodes)}\")\n",
    "#     total += comm_eff(G, nodes)\n",
    "#     iters += 1\n",
    "# print(f\"Average for combination {iters} combinations of leaders is: {total/iters}\")\n",
    "# print(\"\\n\")\n",
    "\n",
    "# print(\"---Random Monte Carlo---\")\n",
    "# print(f\"Communication efficiency of Random Algorithm: {randomAlgo(G)}\")"
   ]
  },
  {
   "cell_type": "markdown",
   "metadata": {},
   "source": [
    "#### 10-NODE NETWORK"
   ]
  },
  {
   "cell_type": "code",
   "execution_count": 9,
   "metadata": {},
   "outputs": [
    {
     "name": "stdout",
     "output_type": "stream",
     "text": [
      "Created a 40 network\n",
      "\n",
      "Total number of top nodes across all labels: 17\n",
      "---Influence Greedy---\n",
      "Best Set of Leaders: {'David W. Cheung', 'Bernhard Schölkopf', 'Xifeng Yan', 'J. Ian Munro'}, Efficiency: 4.0838\n",
      "Nodes not in top nodes: set()\n",
      "\n",
      "\n",
      "---Influence only---\n",
      "Total combinations: 50\n",
      "Average for combination 50 combinations of leaders is: 4.079517999999998\n",
      "\n",
      "\n",
      "---Random Monte Carlo---\n",
      "Communication efficiency of Random Algorithm: 3.5996\n"
     ]
    }
   ],
   "source": [
    "# Create a subgraph with 20 nodes from each Team\n",
    "size_per_team = 10\n",
    "results, selected_nodes = select_nodes_by_label(G, size_per_label=size_per_team)\n",
    "net = pickle.load(open(f'./networks/sub_nets_05_10_{shape}/{4 * size_per_team}_team_network.pkl', 'rb'))\n",
    "# net = G.subgraph(selected_nodes)\n",
    "# # Save network G in a pickle file\n",
    "# with open(f'./networks/sub_nets_05_10_{shape}/{4 * size_per_team}_team_network.pkl', 'wb') as file:\n",
    "#     pickle.dump(net, file)\n",
    "print(f\"Created a {4 * size_per_team} network\")\n",
    "\n",
    "results, top_nodes = analyze_network_by_labels(net)\n",
    "\n",
    "print(\"---Influence Greedy---\")\n",
    "best_set, max_eff = find_best_set_of_leaders(net, top_nodes)\n",
    "print(f\"Best Set of Leaders: {best_set}, Efficiency: {max_eff}\")\n",
    "print(f\"Nodes not in top nodes: {best_set - set(top_nodes)}\")\n",
    "print(\"\\n\")\n",
    "\n",
    "print(\"---Influence only---\")\n",
    "combinations = create_unique_label_combinations(net, top_nodes)\n",
    "total = 0.0\n",
    "iters = 0\n",
    "print(f\"Total combinations: {len(combinations)}\")\n",
    "for i, combo in enumerate(combinations[:100], 1):  # Print first 5 combinations\n",
    "    nodes = [node['id'] for node in combo]\n",
    "    # print(f\"{nodes}: --> Efficiency : {comm_eff(net, nodes)}\")\n",
    "    total += comm_eff(net, nodes)\n",
    "    iters += 1\n",
    "print(f\"Average for combination {iters} combinations of leaders is: {total/iters}\")\n",
    "print(\"\\n\")\n",
    "\n",
    "print(\"---Random Monte Carlo---\")\n",
    "print(f\"Communication efficiency of Random Algorithm: {randomAlgo(net)}\")"
   ]
  },
  {
   "cell_type": "markdown",
   "metadata": {},
   "source": [
    "#### 15-NODE NETWORK"
   ]
  },
  {
   "cell_type": "code",
   "execution_count": 10,
   "metadata": {},
   "outputs": [
    {
     "name": "stdout",
     "output_type": "stream",
     "text": [
      "Created a 60 network\n",
      "\n",
      "Total number of top nodes across all labels: 25\n",
      "---Influence Greedy---\n",
      "Best Set of Leaders: {'Bernhard Schölkopf', 'Mikkel Thorup', 'Xifeng Yan', 'Aristides Gionis'}, Efficiency: 4.092\n",
      "Nodes not in top nodes: set()\n",
      "\n",
      "\n",
      "---Influence only---\n",
      "Total combinations: 450\n",
      "Average for combination 100 combinations of leaders is: 4.080880999999999\n",
      "\n",
      "\n",
      "---Random Monte Carlo---\n",
      "Communication efficiency of Random Algorithm: 3.4809\n"
     ]
    }
   ],
   "source": [
    "# Create a subgraph with 20 nodes from each Team\n",
    "size_per_team = 15\n",
    "results, selected_nodes = select_nodes_by_label(G, size_per_label=size_per_team)\n",
    "net = pickle.load(open(f'./networks/sub_nets_05_10_{shape}/{4 * size_per_team}_team_network.pkl', 'rb'))\n",
    "# net = G.subgraph(selected_nodes)\n",
    "# with open(f'./networks/sub_nets_05_10_{shape}/{4 * size_per_team}_team_network.pkl', 'wb') as file:\n",
    "#     pickle.dump(net, file)\n",
    "print(f\"Created a {4 * size_per_team} network\")\n",
    "\n",
    "results, top_nodes = analyze_network_by_labels(net)\n",
    "\n",
    "print(\"---Influence Greedy---\")\n",
    "best_set, max_eff = find_best_set_of_leaders(net, top_nodes)\n",
    "print(f\"Best Set of Leaders: {best_set}, Efficiency: {max_eff}\")\n",
    "print(f\"Nodes not in top nodes: {best_set - set(top_nodes)}\")\n",
    "print(\"\\n\")\n",
    "\n",
    "print(\"---Influence only---\")\n",
    "combinations = create_unique_label_combinations(net, top_nodes)\n",
    "total = 0.0\n",
    "iters = 0\n",
    "print(f\"Total combinations: {len(combinations)}\")\n",
    "for i, combo in enumerate(combinations[:100], 1):  # Print first 5 combinations\n",
    "    nodes = [node['id'] for node in combo]\n",
    "    # print(f\"{nodes}: --> Efficiency : {comm_eff(net, nodes)}\")\n",
    "    total += comm_eff(net, nodes)\n",
    "    iters += 1\n",
    "print(f\"Average for combination {iters} combinations of leaders is: {total/iters}\")\n",
    "print(\"\\n\")\n",
    "\n",
    "print(\"---Random Monte Carlo---\")\n",
    "print(f\"Communication efficiency of Random Algorithm: {randomAlgo(net)}\")"
   ]
  },
  {
   "cell_type": "markdown",
   "metadata": {},
   "source": [
    "##### 20-NODE NETWORK"
   ]
  },
  {
   "cell_type": "code",
   "execution_count": 11,
   "metadata": {},
   "outputs": [
    {
     "name": "stdout",
     "output_type": "stream",
     "text": [
      "Created a 80 network\n",
      "\n",
      "Total number of top nodes across all labels: 20\n",
      "---Influence Greedy---\n",
      "Best Set of Leaders: {'Mikkel Thorup', 'Aristides Gionis', 'Anthony K. H. Tung', 'Michael I. Jordan'}, Efficiency: 4.1121\n",
      "Nodes not in top nodes: set()\n",
      "\n",
      "\n",
      "---Influence only---\n",
      "Total combinations: 441\n",
      "Average for combination 100 combinations of leaders is: 4.089793999999995\n",
      "\n",
      "\n",
      "---Random Monte Carlo---\n",
      "Communication efficiency of Random Algorithm: 3.444\n"
     ]
    }
   ],
   "source": [
    "# Create a subgraph with 20 nodes from each Team\n",
    "size_per_team = 20\n",
    "results, selected_nodes = select_nodes_by_label(G, size_per_label=size_per_team)\n",
    "net = pickle.load(open(f'./networks/sub_nets_05_10_{shape}/{4 * size_per_team}_team_network.pkl', 'rb'))\n",
    "# net = G.subgraph(selected_nodes)\n",
    "# with open(f'./networks/sub_nets_05_10_{shape}/{4 * size_per_team}_team_network.pkl', 'wb') as file:\n",
    "#     pickle.dump(net, file)\n",
    "print(f\"Created a {4 * size_per_team} network\")\n",
    "\n",
    "results, top_nodes = analyze_network_by_labels(net)\n",
    "\n",
    "print(\"---Influence Greedy---\")\n",
    "best_set, max_eff = find_best_set_of_leaders(net, top_nodes)\n",
    "print(f\"Best Set of Leaders: {best_set}, Efficiency: {max_eff}\")\n",
    "print(f\"Nodes not in top nodes: {best_set - set(top_nodes)}\")\n",
    "print(\"\\n\")\n",
    "\n",
    "print(\"---Influence only---\")\n",
    "combinations = create_unique_label_combinations(net, top_nodes)\n",
    "total = 0.0\n",
    "iters = 0\n",
    "print(f\"Total combinations: {len(combinations)}\")\n",
    "for i, combo in enumerate(combinations[:100], 1):  # Print first 5 combinations\n",
    "    nodes = [node['id'] for node in combo]\n",
    "    # print(f\"{nodes}: --> Efficiency : {comm_eff(net, nodes)}\")\n",
    "    total += comm_eff(net, nodes)\n",
    "    iters += 1\n",
    "print(f\"Average for combination {iters} combinations of leaders is: {total/iters}\")\n",
    "print(\"\\n\")\n",
    "\n",
    "print(\"---Random Monte Carlo---\")\n",
    "print(f\"Communication efficiency of Random Algorithm: {randomAlgo(net)}\")"
   ]
  },
  {
   "cell_type": "markdown",
   "metadata": {},
   "source": [
    "##### 25-NODE NETWORK"
   ]
  },
  {
   "cell_type": "code",
   "execution_count": 12,
   "metadata": {},
   "outputs": [
    {
     "name": "stdout",
     "output_type": "stream",
     "text": [
      "Created a 100 network\n",
      "\n",
      "Total number of top nodes across all labels: 16\n",
      "---Influence Greedy---\n",
      "Best Set of Leaders: {'Karsten M. Borgwardt', 'Mikkel Thorup', 'Anthony K. H. Tung', 'Bo Long'}, Efficiency: 3.9895\n",
      "Nodes not in top nodes: set()\n",
      "\n",
      "\n",
      "---Influence only---\n",
      "Total combinations: 96\n",
      "Average for combination 96 combinations of leaders is: 3.9811916666666654\n",
      "\n",
      "\n",
      "---Random Monte Carlo---\n",
      "Communication efficiency of Random Algorithm: 3.2185\n"
     ]
    }
   ],
   "source": [
    "# Create a subgraph with 25 nodes from each Team\n",
    "size_per_team = 25\n",
    "results, selected_nodes = select_nodes_by_label(G, size_per_label=size_per_team)\n",
    "net = pickle.load(open(f'./networks/sub_nets_05_10_{shape}/{4 * size_per_team}_team_network.pkl', 'rb'))\n",
    "# net = G.subgraph(selected_nodes)\n",
    "# with open(f'./networks/sub_nets_05_10_{shape}/{4 * size_per_team}_team_network.pkl', 'wb') as file:\n",
    "#     pickle.dump(net, file)\n",
    "print(f\"Created a {4 * size_per_team} network\")\n",
    "\n",
    "results, top_nodes = analyze_network_by_labels(net)\n",
    "\n",
    "print(\"---Influence Greedy---\")\n",
    "best_set, max_eff = find_best_set_of_leaders(net, top_nodes)\n",
    "print(f\"Best Set of Leaders: {best_set}, Efficiency: {max_eff}\")\n",
    "print(f\"Nodes not in top nodes: {best_set - set(top_nodes)}\")\n",
    "print(\"\\n\")\n",
    "\n",
    "print(\"---Influence only---\")\n",
    "combinations = create_unique_label_combinations(net, top_nodes)\n",
    "total = 0.0\n",
    "iters = 0\n",
    "print(f\"Total combinations: {len(combinations)}\")\n",
    "for i, combo in enumerate(combinations[:100], 1):  # Print first 5 combinations\n",
    "    nodes = [node['id'] for node in combo]\n",
    "    # print(f\"{nodes}: --> Efficiency : {comm_eff(net, nodes)}\")\n",
    "    total += comm_eff(net, nodes)\n",
    "    iters += 1\n",
    "print(f\"Average for combination {iters} combinations of leaders is: {total/iters}\")\n",
    "print(\"\\n\")\n",
    "\n",
    "print(\"---Random Monte Carlo---\")\n",
    "print(f\"Communication efficiency of Random Algorithm: {randomAlgo(net)}\")"
   ]
  }
 ],
 "metadata": {
  "kernelspec": {
   "display_name": "base",
   "language": "python",
   "name": "python3"
  },
  "language_info": {
   "codemirror_mode": {
    "name": "ipython",
    "version": 3
   },
   "file_extension": ".py",
   "mimetype": "text/x-python",
   "name": "python",
   "nbconvert_exporter": "python",
   "pygments_lexer": "ipython3",
   "version": "3.11.5"
  }
 },
 "nbformat": 4,
 "nbformat_minor": 2
}
