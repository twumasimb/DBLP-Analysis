{
 "cells": [
  {
   "cell_type": "markdown",
   "metadata": {},
   "source": [
    "# Experiment 3. \n",
    "\n",
    "I am running the algorithms for project influenced expert network."
   ]
  },
  {
   "cell_type": "code",
   "execution_count": 1,
   "metadata": {
    "metadata": {}
   },
   "outputs": [],
   "source": [
    "import preprocessing as ps\n",
    "import numpy as np\n",
    "import networkx as nx\n",
    "import pickle\n",
    "import matplotlib.pyplot as plt\n",
    "import random\n",
    "random.seed(42)\n",
    "import csv"
   ]
  },
  {
   "cell_type": "code",
   "execution_count": 2,
   "metadata": {
    "metadata": {}
   },
   "outputs": [],
   "source": [
    "# create the project networks\n",
    "list_1 = [('DM', 'T'), ('DB', 'T'), ('AI', 'T')]\n",
    "list_2 = [('DM', 'T'), ('DB', 'T'), ('AI', 'T'), ('DM', 'DB'), ('DM', 'AI'), ('DB', 'AI')]\n",
    "list_3 = [('DM', 'T'), ('DB', 'T'), ('AI', 'DB')]\n",
    "\n",
    "star_proj = ps.createProjectNetwork(list_1)\n",
    "full_proj = ps.createProjectNetwork(list_2)\n",
    "chain_proj = ps.createProjectNetwork(list_3)"
   ]
  },
  {
   "cell_type": "markdown",
   "metadata": {},
   "source": [
    "## Experiment 3\n",
    "\n",
    "In this experiment, I am running the algorithms on the project influenced network.\n",
    "1. I run on samples of the network. (10, 20, 30, 40, 50)\n",
    "   - First using uniform random sampling.\n",
    "2. I am using the average sum of adjacent weights as the team influence measure. "
   ]
  },
  {
   "cell_type": "markdown",
   "metadata": {},
   "source": [
    "### Uniform Random Sampling"
   ]
  },
  {
   "cell_type": "code",
   "execution_count": null,
   "metadata": {
    "metadata": {}
   },
   "outputs": [],
   "source": [
    "projects = [(star_proj, \"Star-Structured Project\"), (full_proj, \"Fully-connected Structured Project\"), (chain_proj, \"Chain-Structured Project\")]\n",
    "\n",
    "for i in range(10, 51, 10):\n",
    "    network_main = pickle.load(open(f\"./networks/subnets/{i}_nodes.pkl\", 'rb'))\n",
    "    network_main = ps.add_weights(network_main.copy())\n",
    "    print(f\">>>>>>>>>>>>>>>>>> {i} Node network <<<<<<<<<<<<<<<<<\\n\")\n",
    "    with open(f'./results/exp_3/{i}_node_network.csv', 'w', newline='') as file:\n",
    "        writer = csv.writer(file)\n",
    "\n",
    "        for project in projects:\n",
    "            network = ps.remove_edges_based_on_project_network(network_main, project[0]).copy()\n",
    "            print(f\"*********** {project[1]} ***********\")\n",
    "            writer.writerow([project[1]])\n",
    "            writer.writerow([])\n",
    "            # Greedy\n",
    "            print(\"\\n--------      Using Greedy Strategy     -------\\n\")\n",
    "            obj_max_1 = 0.0\n",
    "            best_set_1 = set()\n",
    "            for node in network.nodes():\n",
    "                subset, comm_eff = ps.Greedy(network, project[0], node, beta=None)\n",
    "                if comm_eff > obj_max_1:\n",
    "                    obj_max_1 = comm_eff\n",
    "                    best_set_1 = subset\n",
    "\n",
    "            leaders_eff_1 = ps.sum_edge_weights(network.subgraph(best_set_1))\n",
    "            print(\"Coordinators communication efficiency\", leaders_eff_1)\n",
    "            print(f\"Objective value : {obj_max_1}\")\n",
    "            team_eff_1 = round(obj_max_1 - leaders_eff_1, 4)\n",
    "\n",
    "            for node in best_set_1:\n",
    "                print(f\"Team :{network.nodes[node]['label']}, Node: {node}, Rank: {leaders_eff_1}\")\n",
    "            \n",
    "            title_attributes = f\"Node Ranking for {project[1]} Under Greedy Strategy\"\n",
    "            writer.writerow([title_attributes])\n",
    "            writer.writerow(['Author', \"Label\", \"Rank\"])\n",
    "            for node in best_set_1:\n",
    "                print(f\"Team :{network.nodes[node]['label']}, Node: {node}, Rank: {ps.get_node_rank(network, node)}\")\n",
    "                writer.writerow([node, network.nodes[node]['label'], ps.get_node_rank(network, node)])\n",
    "            writer.writerow([])\n",
    "\n",
    "            # Influence Greedy\n",
    "            print(\"\\n--------      Using influence Greedy Strategy     -------\\n\")\n",
    "            obj_max_2 = 0.0\n",
    "            best_set_2 = set()\n",
    "            print(\"Influential First\")\n",
    "            influential_nodes = ps.get_top_ranked_node_each_group(network)\n",
    "            for node in influential_nodes:\n",
    "                subset, comm_eff = ps.Greedy(network, project[0], node, beta=None)\n",
    "                if comm_eff > obj_max_2:\n",
    "                    obj_max_2 = comm_eff\n",
    "                    best_set_2 = subset\n",
    "\n",
    "            leaders_eff_2 = ps.sum_edge_weights(network.subgraph(best_set_2))\n",
    "            print(\"Coordinators communication efficiency\", leaders_eff_2)\n",
    "            print(f\"Objective value : {obj_max_2}\")\n",
    "            team_eff_2 = obj_max_2 - leaders_eff_2\n",
    "\n",
    "            writer.writerow([])\n",
    "            title_attributes = f\"Node Ranking for {project[1]} Under Influence Greedy Strategy\"\n",
    "            writer.writerow([title_attributes])\n",
    "            writer.writerow(['Author', \"Label\", \"Rank\"])\n",
    "            for node in best_set_2:\n",
    "                print(f\"Team :{network.nodes[node]['label']}, Node: {node}, Rank: {ps.get_node_rank(network, node)}\")\n",
    "                writer.writerow([node, network.nodes[node]['label'], ps.get_node_rank(network, node)])\n",
    "            writer.writerow([])\n",
    "\n",
    "            writer.writerow([])\n",
    "            title_attributes = f\"Node Ranking for {project[1]} Under Influence Greedy Strategy\"\n",
    "            writer.writerow([title_attributes])\n",
    "            writer.writerow(['Algorithm', \"Objective Function\", \"Leaders Efficiency\", \"Team efficiency\"])\n",
    "            writer.writerow(['Greedy', obj_max_1, leaders_eff_1, team_eff_1])\n",
    "            writer.writerow(['Inf Greedy', obj_max_2, leaders_eff_2, team_eff_2])\n",
    "            writer.writerow([])\n",
    "\n",
    "            print(\"\\n\\n\")"
   ]
  },
  {
   "cell_type": "markdown",
   "metadata": {},
   "source": [
    "## Using Monte Carlo for Random"
   ]
  },
  {
   "cell_type": "code",
   "execution_count": 4,
   "metadata": {
    "metadata": {}
   },
   "outputs": [],
   "source": [
    "network_main = pickle.load(open(\"./networks/subnets/10_nodes.pkl\", 'rb'))\n",
    "#nx.write_gml(network_main, \"./networks/subnets/10_nodes.gml\")"
   ]
  },
  {
   "cell_type": "code",
   "execution_count": 5,
   "metadata": {
    "metadata": {}
   },
   "outputs": [
    {
     "data": {
      "image/png": "[encoded data removed]",
      "text/plain": [
       "<Figure size 800x600 with 1 Axes>"
      ]
     },
     "metadata": {},
     "output_type": "display_data"
    }
   ],
   "source": [
    "# Filter nodes with label 'T'\n",
    "nodes_with_label_T = [n for n, attr in network_main.nodes(data=True) if attr['label'] == 'T']\n",
    "\n",
    "# Create a subgraph\n",
    "subgraph_T = network_main.subgraph(nodes_with_label_T)\n",
    "\n",
    "# Draw the subgraph\n",
    "plt.figure(figsize=(8, 6))\n",
    "nx.draw(subgraph_T, with_labels=True, node_color='lightblue', node_size=500, font_size=10, font_weight='bold', edge_color='gray')\n",
    "plt.title(\"Subgraph of Nodes with Label 'T'\")\n",
    "plt.show()"
   ]
  },
  {
   "cell_type": "code",
   "execution_count": 9,
   "metadata": {
    "metadata": {}
   },
   "outputs": [
    {
     "data": {
      "text/plain": [
       "NodeDataView({'Lars Arge': {'label': 'T'}, 'Oded Goldreich': {'label': 'T'}, 'James Davis': {'label': 'DB'}, 'David Aumueller': {'label': 'DB'}, 'Greg Hamerly': {'label': 'AI'}, 'Richard Scheines': {'label': 'AI'}, 'Cosimo Anglano': {'label': 'AI'}, 'John H. Leuchner': {'label': 'DM'}, 'Manor Mendel': {'label': 'T'}, 'Stefano Lonardi': {'label': 'DM'}, 'John S. Schlipf': {'label': 'DB'}, 'Torben Bach Pedersen': {'label': 'DB'}, 'Xin-Jing Wang': {'label': 'DM'}, 'Jörg Hakenberg': {'label': 'DB'}, 'Matthias Schonlau': {'label': 'DM'}, 'Christian Uhrig': {'label': 'T'}, 'Reiner Kraft': {'label': 'DM'}, 'Cristina Solares': {'label': 'AI'}, 'Jochen Hipp': {'label': 'DM'}, 'Claude Puech': {'label': 'T'}, 'Philippe Narbel': {'label': 'T'}, 'Yi-Jen Chiang': {'label': 'T'}, 'Nicola Galesi': {'label': 'T'}, 'Shojiro Nishio': {'label': 'DM'}, 'Wray L. Buntine': {'label': 'AI'}, 'Jooseok Park': {'label': 'DB'}, 'Jesse Davis': {'label': 'AI'}, 'Gökhan H. Bakir': {'label': 'AI'}, 'Yuhong Guo': {'label': 'AI'}, 'Xintao Wu': {'label': 'DM'}, 'Or Meir': {'label': 'T'}, 'Michael V. Vyugin': {'label': 'AI'}, 'Daniel Gyllstrom': {'label': 'DB'}, 'Simon Kasif': {'label': 'AI'}, 'Jun-ichi Takeuchi': {'label': 'DM'}, 'Venkatesan Guruswami': {'label': 'T'}, 'Rasa Bliujute': {'label': 'DB'}, 'Philippe Picouet': {'label': 'DB'}, 'Harald Weinreich': {'label': 'DM'}, 'Matthias Schubert': {'label': 'DB'}})"
      ]
     },
     "execution_count": 9,
     "metadata": {},
     "output_type": "execute_result"
    }
   ],
   "source": [
    "network_main.nodes(data=True)"
   ]
  },
  {
   "cell_type": "code",
   "execution_count": 3,
   "metadata": {
    "metadata": {}
   },
   "outputs": [
    {
     "name": "stdout",
     "output_type": "stream",
     "text": [
      "Using Random : 3.72\n",
      "10_node_network: Star-Structured Project : 3.72\n",
      "Using Random : 3.78\n",
      "10_node_network: Fully-connected Structured Project : 3.78\n",
      "Using Random : 3.24\n",
      "10_node_network: Chain-Structured Project : 3.24\n",
      "Using Random : 5.31\n",
      "20_node_network: Star-Structured Project : 5.31\n",
      "Using Random : 5.77\n",
      "20_node_network: Fully-connected Structured Project : 5.77\n",
      "Using Random : 5.67\n",
      "20_node_network: Chain-Structured Project : 5.67\n",
      "Using Random : 8.13\n",
      "30_node_network: Star-Structured Project : 8.13\n",
      "Using Random : 7.67\n",
      "30_node_network: Fully-connected Structured Project : 7.67\n",
      "Using Random : 6.95\n",
      "30_node_network: Chain-Structured Project : 6.95\n",
      "Using Random : 7.95\n",
      "40_node_network: Star-Structured Project : 7.95\n",
      "Using Random : 8.16\n",
      "40_node_network: Fully-connected Structured Project : 8.16\n",
      "Using Random : 7.52\n",
      "40_node_network: Chain-Structured Project : 7.52\n",
      "Using Random : 5.96\n",
      "50_node_network: Star-Structured Project : 5.96\n",
      "Using Random : 5.77\n",
      "50_node_network: Fully-connected Structured Project : 5.77\n",
      "Using Random : 5.13\n",
      "50_node_network: Chain-Structured Project : 5.13\n"
     ]
    }
   ],
   "source": [
    "projects = [(star_proj, \"Star-Structured Project\"), (full_proj, \"Fully-connected Structured Project\"), (chain_proj, \"Chain-Structured Project\")]\n",
    "\n",
    "for i in range(10, 51, 10):\n",
    "    network_main = pickle.load(open(f\"./networks/subnets/{i}_nodes.pkl\", 'rb'))\n",
    "    network_main = ps.add_weights(network_main.copy())\n",
    "\n",
    "    for project in projects:\n",
    "        network = ps.remove_edges_based_on_project_network(network_main, project[0]).copy()\n",
    "        average_weight = ps.randomMonteCarlo(network_main, 1000)\n",
    "\n",
    "        print(f\"{i}_node_network: {project[1]} : {average_weight}\")"
   ]
  },
  {
   "cell_type": "code",
   "execution_count": null,
   "metadata": {},
   "outputs": [],
   "source": []
  },
  {
   "cell_type": "code",
   "execution_count": null,
   "metadata": {
    "metadata": {}
   },
   "outputs": [],
   "source": [
    "species = (\"Star\", \"Chain\", \"Full\")\n",
    "penguin_means = {\n",
    "    'Inf-Greedy': (50.209, 50.209, 50.209),\n",
    "    'Greedy': (80.824, 80.824, 80.824)\n",
    "}\n",
    "\n",
    "x = np.arange(len(species))  # the label locations\n",
    "width = 0.25  # the width of the bars\n",
    "multiplier = 0\n",
    "\n",
    "fig, ax = plt.subplots(layout='constrained')\n",
    "\n",
    "for attribute, measurement in penguin_means.items():\n",
    "    offset = width * multiplier\n",
    "    rects = ax.bar(x + offset, measurement, width, label=attribute)\n",
    "    ax.bar_label(rects, padding=3)\n",
    "    multiplier += 1\n",
    "\n",
    "# Add some text for labels, title and custom x-axis tick labels, etc.\n",
    "ax.set_ylabel('Length (mm)')\n",
    "ax.set_title('Selected Leaders without considering project structure for 10 node network')\n",
    "ax.set_xticks(x + width, species)\n",
    "ax.legend(loc='upper left', ncols=3)\n",
    "ax.set_ylim(0, 120)\n",
    "\n",
    "plt.show()"
   ]
  },
  {
   "cell_type": "code",
   "execution_count": null,
   "metadata": {
    "metadata": {}
   },
   "outputs": [],
   "source": [
    "# Star Plot\n",
    "\n",
    "x = [10, 20, 30, 40, 50]\n",
    "y_greedy = [36.96, 77.7188, 70.9197, 138.2486, 162.7254]\n",
    "y_inf_greedy = [9.078, 20.8476, 21.9526, 73.7888, 16.4414]\n",
    "\n",
    "plt.plot(x, y_greedy, '*-', label='Greedy')\n",
    "plt.plot(x, y_inf_greedy, 'o-', label='Inf-Greedy')\n",
    "plt.xlabel('Number of nodes')\n",
    "plt.ylabel(r\"$C_{\\eta}$\")\n",
    "plt.xticks(range(10, 51, 10))\n",
    "# plt.title('Objective Function for Star-Structured Project')\n",
    "plt.legend()\n",
    "plt.show()"
   ]
  },
  {
   "cell_type": "code",
   "execution_count": null,
   "metadata": {
    "metadata": {}
   },
   "outputs": [],
   "source": [
    "# Chain Plot\n",
    "\n",
    "x = [10, 20, 30, 40, 50]\n",
    "y_greedy = [36.73, 77.5038, 54.4915, 136.3134, 162.3294]\n",
    "y_inf_greedy = [8.618, 20.6326, 21.1986, 21.7183, 16.0454]\n",
    "\n",
    "plt.plot(x, y_greedy, '*-', label='Greedy')\n",
    "plt.plot(x, y_inf_greedy, 'o-', label='Inf-Greedy')\n",
    "plt.xlabel('Number of nodes')\n",
    "plt.ylabel(r\"$C_{\\eta}$\")\n",
    "plt.xticks(range(10, 51, 10))\n",
    "# plt.title('Objective Function for Chain-Structured Project')\n",
    "plt.legend()\n",
    "plt.show()"
   ]
  },
  {
   "cell_type": "code",
   "execution_count": null,
   "metadata": {
    "metadata": {}
   },
   "outputs": [],
   "source": [
    "# Fully Plot\n",
    "\n",
    "x = [10, 20, 30, 40, 50]\n",
    "y_greedy = [36.96, 77.7188, 70.9197, 138.2486, 162.7254]\n",
    "y_inf_greedy = [9.078, 20.8476, 21.9526, 73.7888, 16.4414]\n",
    "\n",
    "plt.plot(x, y_greedy, '*-', label='Greedy')\n",
    "plt.plot(x, y_inf_greedy, 'o-', label='Inf-Greedy')\n",
    "plt.xlabel('Number of nodes')\n",
    "plt.ylabel(r\"$C_{\\eta}$\")\n",
    "plt.xticks(range(10, 51, 10))\n",
    "# plt.title('Objective Function for Chain-Structured Project')\n",
    "plt.legend()\n",
    "plt.show()"
   ]
  }
 ],
 "metadata": {
  "kernelspec": {
   "display_name": "base",
   "language": "python",
   "name": "python3"
  },
  "language_info": {
   "codemirror_mode": {
    "name": "ipython",
    "version": 3
   },
   "file_extension": ".py",
   "mimetype": "text/x-python",
   "name": "python",
   "nbconvert_exporter": "python",
   "pygments_lexer": "ipython3",
   "version": "3.11.5"
  }
 },
 "nbformat": 4,
 "nbformat_minor": 2
}
