{
 "cells": [
  {
   "cell_type": "markdown",
   "metadata": {},
   "source": [
    "# Experiment 3. \n",
    "\n",
    "I am running the algorithms for project influenced expert network."
   ]
  },
  {
   "cell_type": "code",
   "execution_count": 1,
   "metadata": {
    "metadata": {}
   },
   "outputs": [],
   "source": [
    "import preprocessing as ps\n",
    "import numpy as np\n",
    "import networkx as nx\n",
    "import pickle\n",
    "import matplotlib.pyplot as plt\n",
    "import random\n",
    "random.seed(42)\n",
    "import csv"
   ]
  },
  {
   "cell_type": "code",
   "execution_count": 2,
   "metadata": {
    "metadata": {}
   },
   "outputs": [],
   "source": [
    "# create the project networks\n",
    "list_1 = [('DM', 'T'), ('DB', 'T'), ('AI', 'T')]\n",
    "list_2 = [('DM', 'T'), ('DB', 'T'), ('AI', 'T'), ('DM', 'DB'), ('DM', 'AI'), ('DB', 'AI')]\n",
    "list_3 = [('DM', 'T'), ('DB', 'T'), ('AI', 'DB')]\n",
    "\n",
    "star_proj = ps.createProjectNetwork(list_1)\n",
    "full_proj = ps.createProjectNetwork(list_2)\n",
    "chain_proj = ps.createProjectNetwork(list_3)"
   ]
  },
  {
   "cell_type": "markdown",
   "metadata": {},
   "source": [
    "## Experiment 3\n",
    "\n",
    "In this experiment, I am running the algorithms on the project influenced network.\n",
    "1. I run on samples of the network. (10, 20, 30, 40, 50)\n",
    "   - First using uniform random sampling.\n",
    "2. I am using the average sum of adjacent weights as the team influence measure. "
   ]
  },
  {
   "cell_type": "markdown",
   "metadata": {},
   "source": [
    "### Uniform Random Sampling"
   ]
  },
  {
   "cell_type": "code",
   "execution_count": null,
   "metadata": {
    "metadata": {}
   },
   "outputs": [],
   "source": [
    "projects = [(star_proj, \"Star-Structured Project\"), (full_proj, \"Fully-connected Structured Project\"), (chain_proj, \"Chain-Structured Project\")]\n",
    "\n",
    "for i in range(10, 51, 10):\n",
    "    network_main = pickle.load(open(f\"./networks/subnets/{i}_nodes.pkl\", 'rb'))\n",
    "    network_main = ps.add_weights(network_main.copy())\n",
    "    print(f\">>>>>>>>>>>>>>>>>> {i} Node network <<<<<<<<<<<<<<<<<\\n\")\n",
    "    with open(f'./results/exp_3/{i}_node_network.csv', 'w', newline='') as file:\n",
    "        writer = csv.writer(file)\n",
    "\n",
    "        for project in projects:\n",
    "            network = ps.remove_edges_based_on_project_network(network_main, project[0]).copy()\n",
    "            print(f\"*********** {project[1]} ***********\")\n",
    "            writer.writerow([project[1]])\n",
    "            writer.writerow([])\n",
    "            # Greedy\n",
    "            print(\"\\n--------      Using Greedy Strategy     -------\\n\")\n",
    "            obj_max_1 = 0.0\n",
    "            best_set_1 = set()\n",
    "            for node in network.nodes():\n",
    "                subset, comm_eff = ps.Greedy(network, project[0], node, beta=None)\n",
    "                if comm_eff > obj_max_1:\n",
    "                    obj_max_1 = comm_eff\n",
    "                    best_set_1 = subset\n",
    "\n",
    "            leaders_eff_1 = ps.sum_edge_weights(network.subgraph(best_set_1))\n",
    "            print(\"Coordinators communication efficiency\", leaders_eff_1)\n",
    "            print(f\"Objective value : {obj_max_1}\")\n",
    "            team_eff_1 = round(obj_max_1 - leaders_eff_1, 4)\n",
    "\n",
    "            for node in best_set_1:\n",
    "                print(f\"Team :{network.nodes[node]['label']}, Node: {node}, Rank: {leaders_eff_1}\")\n",
    "            \n",
    "            title_attributes = f\"Node Ranking for {project[1]} Under Greedy Strategy\"\n",
    "            writer.writerow([title_attributes])\n",
    "            writer.writerow(['Author', \"Label\", \"Rank\"])\n",
    "            for node in best_set_1:\n",
    "                print(f\"Team :{network.nodes[node]['label']}, Node: {node}, Rank: {ps.get_node_rank(network, node)}\")\n",
    "                writer.writerow([node, network.nodes[node]['label'], ps.get_node_rank(network, node)])\n",
    "            writer.writerow([])\n",
    "\n",
    "            # Influence Greedy\n",
    "            print(\"\\n--------      Using influence Greedy Strategy     -------\\n\")\n",
    "            obj_max_2 = 0.0\n",
    "            best_set_2 = set()\n",
    "            print(\"Influential First\")\n",
    "            influential_nodes = ps.get_top_ranked_node_each_group(network)\n",
    "            for node in influential_nodes:\n",
    "                subset, comm_eff = ps.Greedy(network, project[0], node, beta=None)\n",
    "                if comm_eff > obj_max_2:\n",
    "                    obj_max_2 = comm_eff\n",
    "                    best_set_2 = subset\n",
    "\n",
    "            leaders_eff_2 = ps.sum_edge_weights(network.subgraph(best_set_2))\n",
    "            print(\"Coordinators communication efficiency\", leaders_eff_2)\n",
    "            print(f\"Objective value : {obj_max_2}\")\n",
    "            team_eff_2 = obj_max_2 - leaders_eff_2\n",
    "\n",
    "            writer.writerow([])\n",
    "            title_attributes = f\"Node Ranking for {project[1]} Under Influence Greedy Strategy\"\n",
    "            writer.writerow([title_attributes])\n",
    "            writer.writerow(['Author', \"Label\", \"Rank\"])\n",
    "            for node in best_set_2:\n",
    "                print(f\"Team :{network.nodes[node]['label']}, Node: {node}, Rank: {ps.get_node_rank(network, node)}\")\n",
    "                writer.writerow([node, network.nodes[node]['label'], ps.get_node_rank(network, node)])\n",
    "            writer.writerow([])\n",
    "\n",
    "            writer.writerow([])\n",
    "            title_attributes = f\"Node Ranking for {project[1]} Under Influence Greedy Strategy\"\n",
    "            writer.writerow([title_attributes])\n",
    "            writer.writerow(['Algorithm', \"Objective Function\", \"Leaders Efficiency\", \"Team efficiency\"])\n",
    "            writer.writerow(['Greedy', obj_max_1, leaders_eff_1, team_eff_1])\n",
    "            writer.writerow(['Inf Greedy', obj_max_2, leaders_eff_2, team_eff_2])\n",
    "            writer.writerow([])\n",
    "\n",
    "            print(\"\\n\\n\")"
   ]
  },
  {
   "cell_type": "markdown",
   "metadata": {},
   "source": [
    "## Using Monte Carlo for Random"
   ]
  },
  {
   "cell_type": "code",
   "execution_count": 3,
   "metadata": {
    "metadata": {}
   },
   "outputs": [
    {
     "data": {
      "text/plain": [
       "0"
      ]
     },
     "execution_count": 3,
     "metadata": {},
     "output_type": "execute_result"
    }
   ],
   "source": [
    "network_main = pickle.load(open(\"./networks/network.pkl\", 'rb'))\n",
    "nx.number_of_isolates(network_main)"
   ]
  },
  {
   "cell_type": "code",
   "execution_count": 4,
   "metadata": {},
   "outputs": [
    {
     "data": {
      "text/plain": [
       "0"
      ]
     },
     "execution_count": 4,
     "metadata": {},
     "output_type": "execute_result"
    }
   ],
   "source": [
    "nodes_T = [node for node in network_main.nodes if network_main.nodes[node]['label'] == 'DB']\n",
    "net_T = network_main.subgraph(nodes_T)\n",
    "nx.number_of_isolates(net_T)"
   ]
  },
  {
   "cell_type": "code",
   "execution_count": 5,
   "metadata": {},
   "outputs": [
    {
     "data": {
      "text/plain": [
       "0"
      ]
     },
     "execution_count": 5,
     "metadata": {},
     "output_type": "execute_result"
    }
   ],
   "source": [
    "netty = ps.create_subnet(network_main, 10)\n",
    "nx.number_of_isolates(netty)"
   ]
  },
  {
   "cell_type": "code",
   "execution_count": 6,
   "metadata": {},
   "outputs": [
    {
     "data": {
      "text/plain": [
       "40"
      ]
     },
     "execution_count": 6,
     "metadata": {},
     "output_type": "execute_result"
    }
   ],
   "source": [
    "netty.number_of_nodes()"
   ]
  },
  {
   "cell_type": "code",
   "execution_count": null,
   "metadata": {},
   "outputs": [],
   "source": [
    "labels = [\"T\", \"AI\", \"DB\", \"DM\"]  # Replace \"T\" with the desired label\n",
    "for label in labels:\n",
    "    # Count the number of nodes with the specified label attribute\n",
    "    count = sum(1 for node, attr in netty.nodes(data=True) if attr['label'] == label)\n",
    "    print(f\"{label}: {count}\")"
   ]
  },
  {
   "cell_type": "code",
   "execution_count": 9,
   "metadata": {},
   "outputs": [],
   "source": [
    "import pickle\n",
    "\n",
    "for i in range(5, 21, 5):\n",
    "    net = ps.create_subnet(network_main, i)\n",
    "    file_path = f\"./networks/new_subnets/{i}_nodes.pkl\"\n",
    "    with open(file_path, 'wb') as file:\n",
    "        pickle.dump(net, file)"
   ]
  },
  {
   "cell_type": "code",
   "execution_count": 10,
   "metadata": {},
   "outputs": [],
   "source": [
    "import pickle\n",
    "\n",
    "file_path = \"./networks/new_subnets/10_nodes.pkl\"\n",
    "\n",
    "with open(file_path, 'rb') as file:\n",
    "    network = pickle.load(file)\n",
    "\n",
    "# Now you can use the 'network' variable which contains the loaded network"
   ]
  },
  {
   "cell_type": "code",
   "execution_count": 14,
   "metadata": {
    "metadata": {}
   },
   "outputs": [
    {
     "name": "stdout",
     "output_type": "stream",
     "text": [
      "Using Random : 36.7\n",
      "5_node_network: Star-Structured Project : 36.7\n",
      "Using Random : 37.0\n",
      "5_node_network: Fully-connected Structured Project : 37.0\n",
      "Using Random : 37.37\n",
      "5_node_network: Chain-Structured Project : 37.37\n",
      "Using Random : 38.84\n",
      "10_node_network: Star-Structured Project : 38.84\n",
      "Using Random : 39.52\n",
      "10_node_network: Fully-connected Structured Project : 39.52\n",
      "Using Random : 39.3\n",
      "10_node_network: Chain-Structured Project : 39.3\n",
      "Using Random : 50.76\n",
      "15_node_network: Star-Structured Project : 50.76\n",
      "Using Random : 48.64\n",
      "15_node_network: Fully-connected Structured Project : 48.64\n",
      "Using Random : 47.99\n",
      "15_node_network: Chain-Structured Project : 47.99\n",
      "Using Random : 26.57\n",
      "20_node_network: Star-Structured Project : 26.57\n",
      "Using Random : 26.48\n",
      "20_node_network: Fully-connected Structured Project : 26.48\n",
      "Using Random : 26.09\n",
      "20_node_network: Chain-Structured Project : 26.09\n"
     ]
    }
   ],
   "source": [
    "projects = [(star_proj, \"Star-Structured Project\"), (full_proj, \"Fully-connected Structured Project\"), (chain_proj, \"Chain-Structured Project\")]\n",
    "\n",
    "for i in range(5, 21, 5):\n",
    "    network_main = pickle.load(open(f\"./networks/new_subnets/{i}_nodes.pkl\", 'rb'))\n",
    "    # network_main = ps.add_weights(network_main.copy())\n",
    "\n",
    "    for project in projects:\n",
    "        network = ps.remove_edges_based_on_project_network(network_main.copy(), project[0]).copy()\n",
    "        average_weight = ps.randomMonteCarlo(network_main, 1000)\n",
    "\n",
    "        print(f\"{i}_node_network: {project[1]} : {average_weight}\")"
   ]
  },
  {
   "cell_type": "code",
   "execution_count": null,
   "metadata": {
    "metadata": {}
   },
   "outputs": [],
   "source": [
    "# 5 nodes\n",
    "\n",
    "species = (\"Star\", \"Chain\", \"Full\")\n",
    "penguin_means = {\n",
    "    'Random': (),\n",
    "    'Inf-Greedy': (50.209, 50.209, 50.209),\n",
    "    'Greedy': (80.824, 80.824, 80.824)\n",
    "}\n",
    "\n",
    "x = np.arange(len(species))  # the label locations\n",
    "width = 0.25  # the width of the bars\n",
    "multiplier = 0\n",
    "\n",
    "fig, ax = plt.subplots(layout='constrained')\n",
    "\n",
    "for attribute, measurement in penguin_means.items():\n",
    "    offset = width * multiplier\n",
    "    rects = ax.bar(x + offset, measurement, width, label=attribute)\n",
    "    ax.bar_label(rects, padding=3)\n",
    "    multiplier += 1\n",
    "\n",
    "# Add some text for labels, title and custom x-axis tick labels, etc.\n",
    "ax.set_ylabel('Length (mm)')\n",
    "ax.set_title('Selected Leaders without considering project structure for 10 node network')\n",
    "ax.set_xticks(x + width, species)\n",
    "ax.legend(loc='upper left', ncols=3)\n",
    "ax.set_ylim(0, 120)\n",
    "\n",
    "plt.show()"
   ]
  },
  {
   "cell_type": "code",
   "execution_count": null,
   "metadata": {
    "metadata": {}
   },
   "outputs": [],
   "source": [
    "# Star Plot\n",
    "\n",
    "x = [10, 20, 30, 40, 50]\n",
    "y_greedy = [36.96, 77.7188, 70.9197, 138.2486, 162.7254]\n",
    "y_inf_greedy = [9.078, 20.8476, 21.9526, 73.7888, 16.4414]\n",
    "\n",
    "plt.plot(x, y_greedy, '*-', label='Greedy')\n",
    "plt.plot(x, y_inf_greedy, 'o-', label='Inf-Greedy')\n",
    "plt.xlabel('Number of nodes')\n",
    "plt.ylabel(r\"$C_{\\eta}$\")\n",
    "plt.xticks(range(10, 51, 10))\n",
    "# plt.title('Objective Function for Star-Structured Project')\n",
    "plt.legend()\n",
    "plt.show()"
   ]
  },
  {
   "cell_type": "code",
   "execution_count": null,
   "metadata": {
    "metadata": {}
   },
   "outputs": [],
   "source": [
    "# Chain Plot\n",
    "\n",
    "x = [10, 20, 30, 40, 50]\n",
    "y_greedy = [36.73, 77.5038, 54.4915, 136.3134, 162.3294]\n",
    "y_inf_greedy = [8.618, 20.6326, 21.1986, 21.7183, 16.0454]\n",
    "\n",
    "plt.plot(x, y_greedy, '*-', label='Greedy')\n",
    "plt.plot(x, y_inf_greedy, 'o-', label='Inf-Greedy')\n",
    "plt.xlabel('Number of nodes')\n",
    "plt.ylabel(r\"$C_{\\eta}$\")\n",
    "plt.xticks(range(10, 51, 10))\n",
    "# plt.title('Objective Function for Chain-Structured Project')\n",
    "plt.legend()\n",
    "plt.show()"
   ]
  },
  {
   "cell_type": "code",
   "execution_count": null,
   "metadata": {
    "metadata": {}
   },
   "outputs": [],
   "source": [
    "# Fully Plot\n",
    "\n",
    "x = [10, 20, 30, 40, 50]\n",
    "y_greedy = [36.96, 77.7188, 70.9197, 138.2486, 162.7254]\n",
    "y_inf_greedy = [9.078, 20.8476, 21.9526, 73.7888, 16.4414]\n",
    "\n",
    "plt.plot(x, y_greedy, '*-', label='Greedy')\n",
    "plt.plot(x, y_inf_greedy, 'o-', label='Inf-Greedy')\n",
    "plt.xlabel('Number of nodes')\n",
    "plt.ylabel(r\"$C_{\\eta}$\")\n",
    "plt.xticks(range(10, 51, 10))\n",
    "# plt.title('Objective Function for Chain-Structured Project')\n",
    "plt.legend()\n",
    "plt.show()"
   ]
  }
 ],
 "metadata": {
  "kernelspec": {
   "display_name": "base",
   "language": "python",
   "name": "python3"
  },
  "language_info": {
   "codemirror_mode": {
    "name": "ipython",
    "version": 3
   },
   "file_extension": ".py",
   "mimetype": "text/x-python",
   "name": "python",
   "nbconvert_exporter": "python",
   "pygments_lexer": "ipython3",
   "version": "3.11.5"
  }
 },
 "nbformat": 4,
 "nbformat_minor": 2
}
