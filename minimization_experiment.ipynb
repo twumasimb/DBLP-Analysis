{
 "cells": [
  {
   "cell_type": "markdown",
   "metadata": {},
   "source": [
    "In this notebook, I am minimizing instead of maximizing. The goal is to test which is better, minimization or maximization."
   ]
  },
  {
   "cell_type": "code",
   "execution_count": 1,
   "metadata": {},
   "outputs": [],
   "source": [
    "import minimization_utils as mutils\n",
    "import preprocessing as pp\n",
    "import algos as al\n",
    "import pickle\n",
    "import networkx as nx"
   ]
  },
  {
   "cell_type": "code",
   "execution_count": 2,
   "metadata": {},
   "outputs": [],
   "source": [
    "# Get the data\n",
    "dataset = pickle.load(open('networks/network_2010.pkl', 'rb'))"
   ]
  },
  {
   "cell_type": "code",
   "execution_count": 3,
   "metadata": {},
   "outputs": [
    {
     "data": {
      "text/plain": [
       "['DB', 'T', 'AI', 'DM']"
      ]
     },
     "execution_count": 3,
     "metadata": {},
     "output_type": "execute_result"
    }
   ],
   "source": [
    "list(set([data['label'] for _, data in dataset.nodes(data=True)]))"
   ]
  },
  {
   "cell_type": "code",
   "execution_count": 4,
   "metadata": {},
   "outputs": [
    {
     "name": "stdout",
     "output_type": "stream",
     "text": [
      "Network Attributes\n",
      "------------------\n",
      "Nun of Nodes: 642\n",
      "Nun of Edges: 63917\n"
     ]
    }
   ],
   "source": [
    "print(\"Network Attributes\")\n",
    "print(\"------------------\")\n",
    "print(f\"Nun of Nodes: {dataset.number_of_nodes()}\")\n",
    "print(f\"Nun of Edges: {dataset.number_of_edges()}\")"
   ]
  },
  {
   "cell_type": "code",
   "execution_count": 5,
   "metadata": {},
   "outputs": [],
   "source": [
    "# create the project networks\n",
    "list_1 = [('DM', 'T'), ('DB', 'T'), ('AI', 'T')]\n",
    "list_2 = [('DM', 'T'), ('DB', 'T'), ('AI', 'T'), ('DM', 'DB'), ('DM', 'AI'), ('DB', 'AI')]\n",
    "list_3 = [('DM', 'T'), ('DB', 'T'), ('AI', 'DB')]\n",
    "\n",
    "star_proj = pp.createProjectNetwork(list_1)\n",
    "full_proj = pp.createProjectNetwork(list_2)\n",
    "chain_proj = pp.createProjectNetwork(list_3)\n",
    "\n",
    "project_net = star_proj\n"
   ]
  },
  {
   "cell_type": "code",
   "execution_count": 6,
   "metadata": {},
   "outputs": [
    {
     "name": "stdout",
     "output_type": "stream",
     "text": [
      "Influential First\n",
      "The list of the nodes with the best closeness centrality: ['Ching-Yung Lin', 'Ryan Williams', 'Ke Yi', 'Csaba Szepesvári']\n",
      "{'Flavio Chierichetti', 'Ching-Yung Lin', 'Ke Yi', 'Haiqin Yang'}\n"
     ]
    }
   ],
   "source": [
    "import time\n",
    "\n",
    "obj_max_1 = float('inf')\n",
    "best_set_1 = set()\n",
    "\n",
    "# network_main = pp.remove_edges_based_on_project_network(dataset.copy(), project_net).copy()\n",
    "network_main = dataset.copy()\n",
    "print(\"Influential First\")\n",
    "\n",
    "influential_nodes = mutils.get_top_node_from_each_group(network_main.copy(), project_net)\n",
    "print(\"The list of the nodes with the best closeness centrality:\",influential_nodes)\n",
    "\n",
    "for node in influential_nodes:\n",
    "    subset, comm_eff = mutils.Greedy(network_main.copy(), project_net, node)\n",
    "    if comm_eff < obj_max_1:\n",
    "        obj_max_1 = comm_eff\n",
    "        best_set_1 = subset\n",
    "        print(best_set_1)\n"
   ]
  },
  {
   "cell_type": "code",
   "execution_count": 7,
   "metadata": {},
   "outputs": [
    {
     "data": {
      "text/plain": [
       "{'label': 'T'}"
      ]
     },
     "execution_count": 7,
     "metadata": {},
     "output_type": "execute_result"
    }
   ],
   "source": [
    "dataset.nodes['Daniel Lokshtanov']"
   ]
  },
  {
   "cell_type": "code",
   "execution_count": 8,
   "metadata": {},
   "outputs": [
    {
     "data": {
      "text/plain": [
       "EdgeView([('Flavio Chierichetti', 'Ching-Yung Lin'), ('Flavio Chierichetti', 'Ke Yi')])"
      ]
     },
     "execution_count": 8,
     "metadata": {},
     "output_type": "execute_result"
    }
   ],
   "source": [
    "dataset.subgraph(list(best_set_1)).edges()"
   ]
  },
  {
   "cell_type": "code",
   "execution_count": 9,
   "metadata": {},
   "outputs": [
    {
     "name": "stdout",
     "output_type": "stream",
     "text": [
      "Ke Yi: DB\n",
      "Glenn Fung: AI\n",
      "Ravi Kumar: DM\n",
      "Flavio Chierichetti: T\n"
     ]
    }
   ],
   "source": [
    "selected_team = ['Ke Yi', 'Glenn Fung', 'Ravi Kumar', 'Flavio Chierichetti']\n",
    "for node in selected_team:\n",
    "    print(f\"{node}: {dataset.nodes[node]['label']}\")"
   ]
  },
  {
   "cell_type": "code",
   "execution_count": 10,
   "metadata": {},
   "outputs": [
    {
     "name": "stdout",
     "output_type": "stream",
     "text": [
      "Ching-Yung Lin: DM\n",
      "Ryan Williams: T\n",
      "Ke Yi: DB\n",
      "Csaba Szepesvári: AI\n"
     ]
    }
   ],
   "source": [
    "for node in influential_nodes:\n",
    "    print(f\"{node}: {dataset.nodes[node]['label']}\")"
   ]
  },
  {
   "cell_type": "code",
   "execution_count": 11,
   "metadata": {},
   "outputs": [
    {
     "data": {
      "image/png": "[encoded data removed]",
      "text/plain": [
       "<Figure size 640x480 with 1 Axes>"
      ]
     },
     "metadata": {},
     "output_type": "display_data"
    }
   ],
   "source": [
    "import matplotlib.pyplot as plt\n",
    "\n",
    "# Plot the network\n",
    "nx.draw(dataset.subgraph(dataset.subgraph(list(best_set_1))), with_labels=True)\n",
    "plt.show()"
   ]
  }
 ],
 "metadata": {
  "kernelspec": {
   "display_name": "base",
   "language": "python",
   "name": "python3"
  },
  "language_info": {
   "codemirror_mode": {
    "name": "ipython",
    "version": 3
   },
   "file_extension": ".py",
   "mimetype": "text/x-python",
   "name": "python",
   "nbconvert_exporter": "python",
   "pygments_lexer": "ipython3",
   "version": "3.11.5"
  }
 },
 "nbformat": 4,
 "nbformat_minor": 2
}
