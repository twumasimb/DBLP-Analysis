{
 "cells": [
  {
   "cell_type": "markdown",
   "metadata": {},
   "source": [
    "I am going to use the following metric functions\n",
    "1. closeness\n",
    "2. degree\n",
    "3. betweenness"
   ]
  },
  {
   "cell_type": "code",
   "execution_count": null,
   "metadata": {},
   "outputs": [],
   "source": [
    "import preprocessing as ps\n",
    "import numpy as np\n",
    "import networkx as nx\n",
    "import pickle\n",
    "import matplotlib.pyplot as plt\n",
    "import random\n",
    "random.seed(42)\n",
    "import csv\n",
    "import algos as al\n",
    "import metrics as me\n",
    "\n",
    "# random.seed(42)"
   ]
  },
  {
   "cell_type": "code",
   "execution_count": null,
   "metadata": {},
   "outputs": [],
   "source": [
    "# create the project networks\n",
    "list_1 = [('DM', 'T'), ('DB', 'T'), ('AI', 'T')]\n",
    "list_2 = [('DM', 'T'), ('DB', 'T'), ('AI', 'T'), ('DM', 'DB'), ('DM', 'AI'), ('DB', 'AI')]\n",
    "list_3 = [('DM', 'T'), ('DB', 'T'), ('AI', 'DB')]\n",
    "\n",
    "star_proj = ps.createProjectNetwork(list_1)\n",
    "full_proj = ps.createProjectNetwork(list_2)\n",
    "chain_proj = ps.createProjectNetwork(list_3)\n",
    "\n",
    "main_network = pickle.load(open(f\"./networks/network.pkl\", 'rb'))\n",
    "# main_network = ps.add_weights(main_network.copy(), alpha=1, criterion='min')\n",
    "# main_network.remove_edges_from(nx.selfloop_edges(main_network))\n",
    "project_net = star_proj\n",
    "beta = None"
   ]
  },
  {
   "cell_type": "code",
   "execution_count": null,
   "metadata": {},
   "outputs": [],
   "source": [
    "import time\n",
    "\n",
    "obj_max_1 = 0.0\n",
    "best_set_1 = set()\n",
    "\n",
    "metric_fn = me.compute_closeness_centrality\n",
    "network_main = ps.remove_edges_based_on_project_network(main_network.copy(), project_net).copy()\n",
    "# network_main = main_network.copy()\n",
    "print(\"Influential First\")\n",
    "\n",
    "influential_nodes = al.get_top_node_from_each_group(network_main.copy(), project_net, metric_fn)\n",
    "start_time = time.time()\n",
    "for node in influential_nodes:\n",
    "    subset, comm_eff = al.Greedy(network_main.copy(), project_net, node, metric_fn=metric_fn, beta=beta)\n",
    "    if comm_eff > obj_max_1:\n",
    "        obj_max_1 = comm_eff\n",
    "        best_set_1 = subset\n",
    "\n",
    "end_time = time.time()\n",
    "execution_time = end_time - start_time\n",
    "print(\"Execution time:\", execution_time, \"seconds\")\n",
    "\n",
    "total_inf = sum(al.leader_eff(network_main.copy(), project_net, metric_fn, node, beta=beta) for node in best_set_1)\n",
    "print(\"Coordinators communication efficiency\", total_inf)\n",
    "# print(f\"Objective value : {obj_max_1}\")\n",
    "\n",
    "print(\"Intra-team ranking\")\n",
    "for node in list(best_set_1):\n",
    "    print(f\"Team :{network_main.copy().nodes[node]['label']}, Node: {node}, Rank: {al.intra_team_rank(network_main, metric_fn, node)}\")\n",
    "\n",
    "print(\"\\n\")\n",
    "\n",
    "print(\"Inter-team ranking\")\n",
    "for node in list(best_set_1):\n",
    "    print(f\"Team :{network_main.copy().nodes[node]['label']}, Node: {node}, Rank: {al.inter_team_rank(network_main, project_net, metric_fn, node)}\")"
   ]
  },
  {
   "cell_type": "code",
   "execution_count": null,
   "metadata": {},
   "outputs": [],
   "source": [
    "# obj_max_2 = 0.0\n",
    "# best_set_2 = set()\n",
    "\n",
    "# metric_fn = me.compute_closeness_centrality\n",
    "# network_main = main_network.copy()\n",
    "# print(\"Greedy Algorithm\")\n",
    "\n",
    "# start_time = time.time()\n",
    "# for node in network_main.nodes():\n",
    "#     subset, comm_eff = al.Greedy(network_main.copy(), project_net, node, metric_fn=metric_fn, beta=beta)\n",
    "#     if comm_eff > obj_max_2:\n",
    "#         obj_max_2 = comm_eff\n",
    "#         best_set_2 = subset\n",
    "\n",
    "# end_time = time.time()\n",
    "# execution_time = end_time - start_time\n",
    "# print(\"Execution time:\", execution_time, \"seconds\")\n",
    "\n",
    "# total_inf = sum(al.leader_eff(network_main.copy(), project_net, metric_fn, node, beta=beta) for node in best_set_2)\n",
    "# print(\"Coordinators communication efficiency\", total_inf)\n",
    "# # print(f\"Objective value : {obj_max_2}\")\n",
    "\n",
    "# print(\"Intra-team ranking\")\n",
    "# for node in list(best_set_2):\n",
    "#     print(f\"Team :{network_main.copy().nodes[node]['label']}, Node: {node}, Rank: {al.intra_team_rank(network_main, metric_fn, node)}\")\n",
    "\n",
    "# print(\"\\n\")\n",
    "\n",
    "# print(\"Inter-team ranking\")\n",
    "# for node in list(best_set_2):\n",
    "#     print(f\"Team :{network_main.copy().nodes[node]['label']}, Node: {node}, Rank: {al.inter_team_rank(network_main, project_net, metric_fn, node)}\")"
   ]
  },
  {
   "cell_type": "code",
   "execution_count": null,
   "metadata": {},
   "outputs": [],
   "source": [
    "# Using Influence Team Strategy\n",
    "metric_fn = me.compute_closeness_centrality\n",
    "network_main = main_network.copy()\n",
    "al.inteam_influence_only(network_main, project_net, metric_fn)"
   ]
  },
  {
   "cell_type": "code",
   "execution_count": null,
   "metadata": {},
   "outputs": [],
   "source": [
    "# Using Random Strategy\n",
    "num_iter = 1000\n",
    "metric_fn = me.compute_closeness_centrality\n",
    "network_main = main_network.copy()\n",
    "al.randomMonteCarlo(network_main, project_net, metric_fn, num_iter)"
   ]
  },
  {
   "cell_type": "code",
   "execution_count": null,
   "metadata": {},
   "outputs": [],
   "source": [
    "# netty = ps.subgraph_by_same_label(network_main, \"Hiroshi Nakagawa\")\n",
    "# import networkx as nx\n",
    "# import matplotlib.pyplot as plt\n",
    "\n",
    "# # Plot the netty graph\n",
    "# nx.draw(network_main, with_labels=True)\n",
    "# plt.show()"
   ]
  },
  {
   "cell_type": "code",
   "execution_count": null,
   "metadata": {},
   "outputs": [],
   "source": [
    "# network_main.nodes[\"Avrim Blum\"]"
   ]
  },
  {
   "cell_type": "code",
   "execution_count": null,
   "metadata": {},
   "outputs": [],
   "source": [
    "# netty = network_main.copy()\n",
    "\n",
    "# elarge = [(u, v) for (u, v, d) in netty.edges(data=True) if d[\"weight\"] > 0.5]\n",
    "# esmall = [(u, v) for (u, v, d) in netty.edges(data=True) if d[\"weight\"] <= 0.5]\n",
    "\n",
    "# pos = nx.spring_layout(netty, seed=7)  # positions for all nodes - seed for reproducibility\n",
    "\n",
    "# # nodes\n",
    "# nx.draw_networkx_nodes(netty, pos, node_size=700)\n",
    "\n",
    "# # edges\n",
    "# nx.draw_networkx_edges(netty, pos, edgelist=elarge, width=6)\n",
    "# nx.draw_networkx_edges(\n",
    "#     netty, pos, edgelist=esmall, width=6, alpha=0.5, edge_color=\"b\", style=\"dashed\"\n",
    "# )\n",
    "\n",
    "# # node labels\n",
    "# nx.draw_networkx_labels(netty, pos, font_size=20, font_family=\"sans-serif\")\n",
    "# # edge weight labels\n",
    "# edge_labels = nx.get_edge_attributes(netty, \"weight\")\n",
    "# nx.draw_networkx_edge_labels(netty, pos, edge_labels)\n",
    "\n",
    "# ax = plt.gca()\n",
    "# ax.margins(0.08)\n",
    "# plt.axis(\"off\")\n",
    "# plt.tight_layout()\n",
    "# plt.show()"
   ]
  },
  {
   "cell_type": "code",
   "execution_count": null,
   "metadata": {},
   "outputs": [],
   "source": [
    "# netty.edges(data=True)"
   ]
  }
 ],
 "metadata": {
  "kernelspec": {
   "display_name": "base",
   "language": "python",
   "name": "python3"
  },
  "language_info": {
   "codemirror_mode": {
    "name": "ipython",
    "version": 3
   },
   "file_extension": ".py",
   "mimetype": "text/x-python",
   "name": "python",
   "nbconvert_exporter": "python",
   "pygments_lexer": "ipython3",
   "version": "3.11.5"
  }
 },
 "nbformat": 4,
 "nbformat_minor": 2
}
