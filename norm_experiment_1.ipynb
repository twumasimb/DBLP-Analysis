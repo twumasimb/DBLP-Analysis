{
 "cells": [
  {
   "cell_type": "markdown",
   "metadata": {},
   "source": [
    "I am going to use the following metric functions\n",
    "1. closeness\n",
    "2. degree\n",
    "3. betweenness"
   ]
  },
  {
   "cell_type": "code",
   "execution_count": 1,
   "metadata": {},
   "outputs": [],
   "source": [
    "import preprocessing as ps\n",
    "import numpy as np\n",
    "import networkx as nx\n",
    "import pickle\n",
    "import matplotlib.pyplot as plt\n",
    "import random\n",
    "random.seed(42)\n",
    "import csv\n",
    "import algos as al\n",
    "import metrics as me"
   ]
  },
  {
   "cell_type": "code",
   "execution_count": 2,
   "metadata": {},
   "outputs": [],
   "source": [
    "# create the project networks\n",
    "list_1 = [('DM', 'T'), ('DB', 'T'), ('AI', 'T')]\n",
    "list_2 = [('DM', 'T'), ('DB', 'T'), ('AI', 'T'), ('DM', 'DB'), ('DM', 'AI'), ('DB', 'AI')]\n",
    "list_3 = [('DM', 'T'), ('DB', 'T'), ('AI', 'DB')]\n",
    "\n",
    "star_proj = ps.createProjectNetwork(list_1)\n",
    "full_proj = ps.createProjectNetwork(list_2)\n",
    "chain_proj = ps.createProjectNetwork(list_3)"
   ]
  },
  {
   "cell_type": "code",
   "execution_count": 3,
   "metadata": {},
   "outputs": [
    {
     "name": "stdout",
     "output_type": "stream",
     "text": [
      "*********** Star-Structured Project ***********\n",
      "\n",
      "--------      Using Greedy Strategy     -------\n",
      "\n"
     ]
    },
    {
     "ename": "KeyError",
     "evalue": "None",
     "output_type": "error",
     "traceback": [
      "\u001b[0;31m---------------------------------------------------------------------------\u001b[0m",
      "\u001b[0;31mKeyError\u001b[0m                                  Traceback (most recent call last)",
      "Cell \u001b[0;32mIn[3], line 28\u001b[0m\n\u001b[1;32m     26\u001b[0m best_set_1 \u001b[38;5;241m=\u001b[39m \u001b[38;5;28mset\u001b[39m()\n\u001b[1;32m     27\u001b[0m \u001b[38;5;28;01mfor\u001b[39;00m node \u001b[38;5;129;01min\u001b[39;00m network\u001b[38;5;241m.\u001b[39mcopy()\u001b[38;5;241m.\u001b[39mnodes():\n\u001b[0;32m---> 28\u001b[0m     subset, comm_eff \u001b[38;5;241m=\u001b[39m \u001b[43mal\u001b[49m\u001b[38;5;241;43m.\u001b[39;49m\u001b[43mGreedy\u001b[49m\u001b[43m(\u001b[49m\u001b[43mnetwork\u001b[49m\u001b[38;5;241;43m.\u001b[39;49m\u001b[43mcopy\u001b[49m\u001b[43m(\u001b[49m\u001b[43m)\u001b[49m\u001b[43m,\u001b[49m\u001b[43m \u001b[49m\u001b[43mproject\u001b[49m\u001b[43m[\u001b[49m\u001b[38;5;241;43m0\u001b[39;49m\u001b[43m]\u001b[49m\u001b[43m,\u001b[49m\u001b[43m \u001b[49m\u001b[43mnode\u001b[49m\u001b[43m,\u001b[49m\u001b[43m \u001b[49m\u001b[43mmetric_fn\u001b[49m\u001b[38;5;241;43m=\u001b[39;49m\u001b[43mmetric_fn\u001b[49m\u001b[43m,\u001b[49m\u001b[43m \u001b[49m\u001b[43mbeta\u001b[49m\u001b[38;5;241;43m=\u001b[39;49m\u001b[43mbeta\u001b[49m\u001b[43m)\u001b[49m\n\u001b[1;32m     29\u001b[0m     \u001b[38;5;28;01mif\u001b[39;00m comm_eff \u001b[38;5;241m>\u001b[39m obj_max_1:\n\u001b[1;32m     30\u001b[0m         obj_max_1 \u001b[38;5;241m=\u001b[39m comm_eff\n",
      "File \u001b[0;32m~/Projects/DBLP-Analysis/algos.py:47\u001b[0m, in \u001b[0;36mGreedy\u001b[0;34m(graph_G, graph_P, seed_node, metric_fn, beta)\u001b[0m\n\u001b[1;32m     45\u001b[0m     \u001b[38;5;66;03m# Add the best node to the subset\u001b[39;00m\n\u001b[1;32m     46\u001b[0m     subset\u001b[38;5;241m.\u001b[39madd(best_node)\n\u001b[0;32m---> 47\u001b[0m     labels\u001b[38;5;241m.\u001b[39mappend(\u001b[43mgraph_G\u001b[49m\u001b[38;5;241;43m.\u001b[39;49m\u001b[43mnodes\u001b[49m\u001b[43m[\u001b[49m\u001b[43mbest_node\u001b[49m\u001b[43m]\u001b[49m[\u001b[38;5;124m'\u001b[39m\u001b[38;5;124mlabel\u001b[39m\u001b[38;5;124m'\u001b[39m])\n\u001b[1;32m     48\u001b[0m     communication_efficiency \u001b[38;5;241m+\u001b[39m\u001b[38;5;241m=\u001b[39m min_total_edge_weight\n\u001b[1;32m     50\u001b[0m \u001b[38;5;28;01mreturn\u001b[39;00m subset, \u001b[38;5;28mround\u001b[39m(communication_efficiency, \u001b[38;5;241m4\u001b[39m)\n",
      "File \u001b[0;32m~/.local/lib/python3.11/site-packages/networkx/classes/reportviews.py:194\u001b[0m, in \u001b[0;36mNodeView.__getitem__\u001b[0;34m(self, n)\u001b[0m\n\u001b[1;32m    189\u001b[0m \u001b[38;5;28;01mif\u001b[39;00m \u001b[38;5;28misinstance\u001b[39m(n, \u001b[38;5;28mslice\u001b[39m):\n\u001b[1;32m    190\u001b[0m     \u001b[38;5;28;01mraise\u001b[39;00m nx\u001b[38;5;241m.\u001b[39mNetworkXError(\n\u001b[1;32m    191\u001b[0m         \u001b[38;5;124mf\u001b[39m\u001b[38;5;124m\"\u001b[39m\u001b[38;5;132;01m{\u001b[39;00m\u001b[38;5;28mtype\u001b[39m(\u001b[38;5;28mself\u001b[39m)\u001b[38;5;241m.\u001b[39m\u001b[38;5;18m__name__\u001b[39m\u001b[38;5;132;01m}\u001b[39;00m\u001b[38;5;124m does not support slicing, \u001b[39m\u001b[38;5;124m\"\u001b[39m\n\u001b[1;32m    192\u001b[0m         \u001b[38;5;124mf\u001b[39m\u001b[38;5;124m\"\u001b[39m\u001b[38;5;124mtry list(G.nodes)[\u001b[39m\u001b[38;5;132;01m{\u001b[39;00mn\u001b[38;5;241m.\u001b[39mstart\u001b[38;5;132;01m}\u001b[39;00m\u001b[38;5;124m:\u001b[39m\u001b[38;5;132;01m{\u001b[39;00mn\u001b[38;5;241m.\u001b[39mstop\u001b[38;5;132;01m}\u001b[39;00m\u001b[38;5;124m:\u001b[39m\u001b[38;5;132;01m{\u001b[39;00mn\u001b[38;5;241m.\u001b[39mstep\u001b[38;5;132;01m}\u001b[39;00m\u001b[38;5;124m]\u001b[39m\u001b[38;5;124m\"\u001b[39m\n\u001b[1;32m    193\u001b[0m     )\n\u001b[0;32m--> 194\u001b[0m \u001b[38;5;28;01mreturn\u001b[39;00m \u001b[38;5;28;43mself\u001b[39;49m\u001b[38;5;241;43m.\u001b[39;49m\u001b[43m_nodes\u001b[49m\u001b[43m[\u001b[49m\u001b[43mn\u001b[49m\u001b[43m]\u001b[49m\n",
      "\u001b[0;31mKeyError\u001b[0m: None"
     ]
    }
   ],
   "source": [
    "projects = [(star_proj, \"Star-Structured Project\"), \n",
    "            (full_proj, \"Fully-connected Structured Project\"), \n",
    "            (chain_proj, \"Chain-Structured Project\")]\n",
    "\n",
    "metric_fn = me.compute_closeness_centrality\n",
    "\n",
    "y_greedy = []\n",
    "y_greedy_leader = []\n",
    "y_inf_greedy = []\n",
    "y_inf_greedy_leader = []\n",
    "y_inf = []\n",
    "y_inf_leader = []\n",
    "# y_random = []\n",
    "\n",
    "beta = None\n",
    "\n",
    "network_main = pickle.load(open(f\"./networks/net_2_subnets/10_nodes.pkl\", 'rb')).copy()\n",
    "for project in projects:\n",
    "    network = ps.remove_edges_based_on_project_network(network_main.copy(), project[0])\n",
    "    network = ps.add_weights(network.copy(), alpha=0.7, criterion='min')\n",
    "    print(f\"*********** {project[1]} ***********\")\n",
    "\n",
    "    # Greedy\n",
    "    print(\"\\n--------      Using Greedy Strategy     -------\\n\")\n",
    "    obj_max_1 = 0.0\n",
    "    best_set_1 = set()\n",
    "    for node in network.copy().nodes():\n",
    "        subset, comm_eff = al.Greedy(network.copy(), project[0], node, metric_fn=metric_fn, beta=beta)\n",
    "        if comm_eff > obj_max_1:\n",
    "            obj_max_1 = comm_eff\n",
    "            best_set_1 = subset\n",
    "\n",
    "    leaders_eff_1 = ps.sum_edge_weights(network.copy().subgraph(best_set_1))\n",
    "    print(\"Coordinators communication efficiency\", leaders_eff_1)\n",
    "    # print(f\"Objective value : {obj_max_1}\")\n",
    "    # team_eff_1 = round(obj_max_1 - leaders_eff_1, 4)\n",
    "\n",
    "    y_greedy.append(obj_max_1)\n",
    "    y_greedy_leader.append(leaders_eff_1)\n",
    "\n",
    "    for node in best_set_1:\n",
    "        print(f\"Team :{network.copy().nodes[node]['label']}, Node: {node}, Rank: {ps.get_node_rank(network.copy(), node)}\")\n",
    "    \n",
    "\n",
    "    # Influence Greedy\n",
    "    print(\"\\n--------      Using influence Greedy Strategy     -------\\n\")\n",
    "    obj_max_2 = 0.0\n",
    "    best_set_2 = set()\n",
    "    print(\"Influential First\")\n",
    "    influential_nodes = ps.get_top_ranked_node_each_group(network.copy())\n",
    "    for node in influential_nodes:\n",
    "        subset, comm_eff = al.Greedy(network.copy(), project[0], node, metric_fn=metric_fn, beta=beta)\n",
    "        if comm_eff > obj_max_2:\n",
    "            obj_max_2 = comm_eff\n",
    "            best_set_2 = subset\n",
    "\n",
    "    leaders_eff_2 = ps.sum_edge_weights(network.copy().subgraph(best_set_2))\n",
    "    print(\"Coordinators communication efficiency\", leaders_eff_2)\n",
    "    print(f\"Objective value : {obj_max_2}\")\n",
    "\n",
    "    y_inf_greedy.append(obj_max_2)\n",
    "    y_inf_greedy_leader.append(leaders_eff_2) \n",
    "\n",
    "    for node in best_set_2:\n",
    "        print(f\"Team :{network.copy().nodes[node]['label']}, Node: {node}, Rank: {ps.get_node_rank(network.copy(), node)}\")\n",
    "\n",
    "    # Influence \n",
    "    print(\"\\n--------      Using influence Strategy     -------\\n\")\n",
    "    influential_nodes = ps.get_top_ranked_node_each_group(network.copy())\n",
    "    influence_net = network.copy().subgraph(influential_nodes)\n",
    "    local_influence = 0\n",
    "    for node in influential_nodes:\n",
    "        local_influence += ps.average_weight_of_adjacent_nodes(influence_net, node)\n",
    "    influence_score = ps.sum_edge_weights(influence_net) + local_influence\n",
    "\n",
    "    y_inf.append(influence_score)\n",
    "    y_inf_leader.append(ps.sum_edge_weights(influence_net))\n",
    "\n",
    "    for node in influential_nodes:\n",
    "        print(f\"Team :{network.copy().nodes[node]['label']}, Node: {node}, Rank: {ps.get_node_rank(network.copy(), node)}\")\n",
    "\n",
    "    # # Random \n",
    "    # print(\"\\n--------      Using Random Strategy     -------\\n\")\n",
    "    # average_weight = ps.randomMonteCarlo(network.copy(), 1000)\n",
    "    # y_random.append(average_weight)\n",
    "\n",
    "\n",
    "print(f\"y_greedy = {y_greedy}\")\n",
    "print(f\"y_inf_greedy = {y_inf_greedy}\")\n",
    "print(f\"y_inf = {y_inf}\")\n",
    "# print(f\"y_random: {y_random}\")\n",
    "print(f\"y_inf_leader: {y_inf_leader}\")\n",
    "print(f\"y_inf_greedy_leader = {y_inf_greedy_leader}\")\n",
    "print(f\"y_greedy_leader = {y_greedy_leader}\")"
   ]
  }
 ],
 "metadata": {
  "kernelspec": {
   "display_name": "base",
   "language": "python",
   "name": "python3"
  },
  "language_info": {
   "codemirror_mode": {
    "name": "ipython",
    "version": 3
   },
   "file_extension": ".py",
   "mimetype": "text/x-python",
   "name": "python",
   "nbconvert_exporter": "python",
   "pygments_lexer": "ipython3",
   "version": "3.11.5"
  }
 },
 "nbformat": 4,
 "nbformat_minor": 2
}
