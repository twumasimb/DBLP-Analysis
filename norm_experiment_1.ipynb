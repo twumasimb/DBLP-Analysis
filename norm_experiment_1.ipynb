{
 "cells": [
  {
   "cell_type": "markdown",
   "metadata": {},
   "source": [
    "I am going to use the following metric functions\n",
    "1. closeness\n",
    "2. degree\n",
    "3. betweenness"
   ]
  },
  {
   "cell_type": "code",
   "execution_count": 1,
   "metadata": {},
   "outputs": [],
   "source": [
    "import preprocessing as ps\n",
    "import numpy as np\n",
    "import networkx as nx\n",
    "import pickle\n",
    "import matplotlib.pyplot as plt\n",
    "import random\n",
    "random.seed(42)\n",
    "import csv\n",
    "import algos as al\n",
    "import metrics as me"
   ]
  },
  {
   "cell_type": "code",
   "execution_count": 2,
   "metadata": {},
   "outputs": [],
   "source": [
    "# create the project networks\n",
    "list_1 = [('DM', 'T'), ('DB', 'T'), ('AI', 'T')]\n",
    "list_2 = [('DM', 'T'), ('DB', 'T'), ('AI', 'T'), ('DM', 'DB'), ('DM', 'AI'), ('DB', 'AI')]\n",
    "list_3 = [('DM', 'T'), ('DB', 'T'), ('AI', 'DB')]\n",
    "\n",
    "star_proj = ps.createProjectNetwork(list_1)\n",
    "full_proj = ps.createProjectNetwork(list_2)\n",
    "chain_proj = ps.createProjectNetwork(list_3)\n",
    "\n",
    "main_network = pickle.load(open(f\"./networks/new_subnets/10_nodes.pkl\", 'rb'))\n",
    "project_net = star_proj"
   ]
  },
  {
   "cell_type": "code",
   "execution_count": 3,
   "metadata": {},
   "outputs": [
    {
     "name": "stdout",
     "output_type": "stream",
     "text": [
      "Influential First\n",
      "Coordinators communication efficiency 581.0647364331573\n",
      "Intra-team ranking\n",
      "Team :AI, Node: Eiji Takimoto, Rank: 1\n",
      "Team :DB, Node: Yosihisa Udagawa, Rank: 1\n",
      "Team :T, Node: F. Bruce Shepherd, Rank: 1\n",
      "Team :DM, Node: Bing Liu, Rank: 8\n",
      "\n",
      "\n",
      "Inter-team ranking\n",
      "Team :AI, Node: Eiji Takimoto, Rank: 1\n",
      "Team :DB, Node: Yosihisa Udagawa, Rank: 6\n",
      "Team :T, Node: F. Bruce Shepherd, Rank: 14\n",
      "Team :DM, Node: Bing Liu, Rank: 2\n"
     ]
    }
   ],
   "source": [
    "projects = [(star_proj, \"Star-Structured Project\"), \n",
    "            (full_proj, \"Fully-connected Structured Project\"), \n",
    "            (chain_proj, \"Chain-Structured Project\")]\n",
    "\n",
    "beta = None\n",
    "obj_max_2 = 0.0\n",
    "best_set_2 = set()\n",
    "\n",
    "metric_fn = me.compute_closeness_centrality\n",
    "network_main = main_network.copy()\n",
    "print(\"Influential First\")\n",
    "influential_nodes = al.get_top_node_from_each_group(network_main.copy(), project_net, metric_fn)\n",
    "for node in influential_nodes:\n",
    "    subset, comm_eff = al.Greedy(network_main.copy(), project_net, node, metric_fn=metric_fn, beta=beta)\n",
    "    if comm_eff > obj_max_2:\n",
    "        obj_max_2 = comm_eff\n",
    "        best_set_2 = subset\n",
    "\n",
    "total_inf = sum(al.leader_eff(network_main.copy(), project_net, metric_fn, node, beta=beta) for node in best_set_2)\n",
    "print(\"Coordinators communication efficiency\", total_inf)\n",
    "# print(f\"Objective value : {obj_max_2}\")\n",
    "\n",
    "print(\"Intra-team ranking\")\n",
    "for node in list(best_set_2):\n",
    "    print(f\"Team :{network_main.copy().nodes[node]['label']}, Node: {node}, Rank: {al.intra_team_rank(network_main, metric_fn, node)}\")\n",
    "\n",
    "print(\"\\n\")\n",
    "\n",
    "print(\"Inter-team ranking\")\n",
    "for node in list(best_set_2):\n",
    "    print(f\"Team :{network_main.copy().nodes[node]['label']}, Node: {node}, Rank: {al.inter_team_rank(network_main, project_net, metric_fn, node)}\")"
   ]
  },
  {
   "cell_type": "code",
   "execution_count": 5,
   "metadata": {},
   "outputs": [
    {
     "name": "stdout",
     "output_type": "stream",
     "text": [
      "Greedy Algorithm\n",
      "Coordinators communication efficiency 581.0647364331575\n",
      "Intra-team ranking\n",
      "Team :AI, Node: Eiji Takimoto, Rank: 1\n",
      "Team :DM, Node: Bing Liu, Rank: 8\n",
      "Team :T, Node: F. Bruce Shepherd, Rank: 1\n",
      "Team :DB, Node: Toshimi Minoura, Rank: 2\n",
      "\n",
      "\n",
      "Inter-team ranking\n",
      "Team :AI, Node: Eiji Takimoto, Rank: 1\n",
      "Team :DM, Node: Bing Liu, Rank: 2\n",
      "Team :T, Node: F. Bruce Shepherd, Rank: 14\n",
      "Team :DB, Node: Toshimi Minoura, Rank: 1\n"
     ]
    }
   ],
   "source": [
    "projects = [(star_proj, \"Star-Structured Project\"), \n",
    "            (full_proj, \"Fully-connected Structured Project\"), \n",
    "            (chain_proj, \"Chain-Structured Project\")]\n",
    "\n",
    "beta = None\n",
    "obj_max_2 = 0.0\n",
    "best_set_2 = set()\n",
    "\n",
    "metric_fn = me.compute_closeness_centrality\n",
    "network_main = main_network.copy()\n",
    "print(\"Greedy Algorithm\")\n",
    "for node in network_main.nodes():\n",
    "    subset, comm_eff = al.Greedy(network_main.copy(), project_net, node, metric_fn=metric_fn, beta=beta)\n",
    "    if comm_eff > obj_max_2:\n",
    "        obj_max_2 = comm_eff\n",
    "        best_set_2 = subset\n",
    "\n",
    "total_inf = sum(al.leader_eff(network_main.copy(), project_net, metric_fn, node, beta=beta) for node in best_set_2)\n",
    "print(\"Coordinators communication efficiency\", total_inf)\n",
    "# print(f\"Objective value : {obj_max_2}\")\n",
    "\n",
    "print(\"Intra-team ranking\")\n",
    "for node in list(best_set_2):\n",
    "    print(f\"Team :{network_main.copy().nodes[node]['label']}, Node: {node}, Rank: {al.intra_team_rank(network_main, metric_fn, node)}\")\n",
    "\n",
    "print(\"\\n\")\n",
    "\n",
    "print(\"Inter-team ranking\")\n",
    "for node in list(best_set_2):\n",
    "    print(f\"Team :{network_main.copy().nodes[node]['label']}, Node: {node}, Rank: {al.inter_team_rank(network_main, project_net, metric_fn, node)}\")"
   ]
  },
  {
   "cell_type": "code",
   "execution_count": 6,
   "metadata": {},
   "outputs": [
    {
     "data": {
      "text/plain": [
       "773.7"
      ]
     },
     "execution_count": 6,
     "metadata": {},
     "output_type": "execute_result"
    }
   ],
   "source": [
    "# Using Random Strategy\n",
    "projects = [(star_proj, \"Star-Structured Project\"), \n",
    "            (full_proj, \"Fully-connected Structured Project\"),\n",
    "            (chain_proj, \"Chain-Structured Project\")]\n",
    "\n",
    "num_iter = 1000\n",
    "metric_fn = me.compute_closeness_centrality\n",
    "network_main = main_network.copy()\n",
    "al.randomMonteCarlo(network_main, project_net, metric_fn, num_iter)"
   ]
  },
  {
   "cell_type": "code",
   "execution_count": 7,
   "metadata": {},
   "outputs": [
    {
     "name": "stdout",
     "output_type": "stream",
     "text": [
      "Intra-team ranking\n",
      "Team :DM, Node: Tianbing Xu, Rank: 1\n",
      "Team :DB, Node: Yosihisa Udagawa, Rank: 1\n",
      "Team :T, Node: F. Bruce Shepherd, Rank: 1\n",
      "Team :AI, Node: Eiji Takimoto, Rank: 1\n",
      "\n",
      "\n",
      "Inter-team ranking\n",
      "Team :DM, Node: Tianbing Xu, Rank: 9\n",
      "Team :DB, Node: Yosihisa Udagawa, Rank: 6\n",
      "Team :T, Node: F. Bruce Shepherd, Rank: 14\n",
      "Team :AI, Node: Eiji Takimoto, Rank: 1\n"
     ]
    },
    {
     "data": {
      "text/plain": [
       "567.6750253690278"
      ]
     },
     "execution_count": 7,
     "metadata": {},
     "output_type": "execute_result"
    }
   ],
   "source": [
    "projects = [(star_proj, \"Star-Structured Project\"), \n",
    "            (full_proj, \"Fully-connected Structured Project\"),\n",
    "            (chain_proj, \"Chain-Structured Project\")]\n",
    "\n",
    "metric_fn = me.compute_closeness_centrality\n",
    "network_main = main_network.copy()\n",
    "al.inteam_influence_only(network_main, project_net, metric_fn)"
   ]
  }
 ],
 "metadata": {
  "kernelspec": {
   "display_name": "base",
   "language": "python",
   "name": "python3"
  },
  "language_info": {
   "codemirror_mode": {
    "name": "ipython",
    "version": 3
   },
   "file_extension": ".py",
   "mimetype": "text/x-python",
   "name": "python",
   "nbconvert_exporter": "python",
   "pygments_lexer": "ipython3",
   "version": "3.11.5"
  }
 },
 "nbformat": 4,
 "nbformat_minor": 2
}
