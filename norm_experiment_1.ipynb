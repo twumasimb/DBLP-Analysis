{
 "cells": [
  {
   "cell_type": "markdown",
   "metadata": {},
   "source": [
    "I am going to use the following metric functions\n",
    "1. closeness\n",
    "2. degree\n",
    "3. betweenness"
   ]
  },
  {
   "cell_type": "code",
   "execution_count": 1,
   "metadata": {},
   "outputs": [],
   "source": [
    "import preprocessing as ps\n",
    "import numpy as np\n",
    "import networkx as nx\n",
    "import pickle\n",
    "import matplotlib.pyplot as plt\n",
    "import random\n",
    "random.seed(42)\n",
    "import csv\n",
    "import algos as al\n",
    "import metrics as me\n",
    "\n",
    "# random.seed(42)"
   ]
  },
  {
   "cell_type": "code",
   "execution_count": 3,
   "metadata": {},
   "outputs": [],
   "source": [
    "# create the project networks\n",
    "list_1 = [('DM', 'T'), ('DB', 'T'), ('AI', 'T')]\n",
    "list_2 = [('DM', 'T'), ('DB', 'T'), ('AI', 'T'), ('DM', 'DB'), ('DM', 'AI'), ('DB', 'AI')]\n",
    "list_3 = [('DM', 'T'), ('DB', 'T'), ('AI', 'DB')]\n",
    "\n",
    "star_proj = ps.createProjectNetwork(list_1)\n",
    "full_proj = ps.createProjectNetwork(list_2)\n",
    "chain_proj = ps.createProjectNetwork(list_3)\n",
    "\n",
    "main_network = pickle.load(open(f\"./networks/subnets/10_nodes.pkl\", 'rb'))\n",
    "main_network = ps.add_weights(main_network.copy(), alpha=1, criterion='min')\n",
    "main_network.remove_edges_from(nx.selfloop_edges(main_network))\n",
    "project_net = star_proj\n",
    "beta = None"
   ]
  },
  {
   "cell_type": "code",
   "execution_count": 4,
   "metadata": {},
   "outputs": [
    {
     "name": "stdout",
     "output_type": "stream",
     "text": [
      "Influential First\n",
      "{'Jochen Hipp': 1.0, 'John H. Leuchner': 1.0, 'Xintao Wu': 1.0, 'Xin-Jing Wang': 1.0, 'Jun-ichi Takeuchi': 1.0, 'Stefano Lonardi': 1.0, 'Matthias Schonlau': 1.0, 'Shojiro Nishio': 1.0, 'Reiner Kraft': 1.0, 'Harald Weinreich': 1.0}\n",
      "{'Nicola Galesi': 1.0, 'Lars Arge': 1.0, 'Venkatesan Guruswami': 1.0, 'Yi-Jen Chiang': 1.0, 'Oded Goldreich': 1.0, 'Claude Puech': 1.0, 'Christian Uhrig': 1.0, 'Or Meir': 1.0, 'Philippe Narbel': 1.0, 'Manor Mendel': 1.0}\n",
      "{'David Aumueller': 1.0, 'Rasa Bliujute': 1.0, 'Jörg Hakenberg': 1.0, 'Philippe Picouet': 1.0, 'Daniel Gyllstrom': 1.0, 'Jooseok Park': 1.0, 'Matthias Schubert': 1.0, 'Torben Bach Pedersen': 1.0, 'James Davis': 1.0, 'John S. Schlipf': 1.0}\n",
      "{'Greg Hamerly': 1.0, 'Wray L. Buntine': 1.0, 'Cosimo Anglano': 1.0, 'Michael V. Vyugin': 1.0, 'Simon Kasif': 1.0, 'Cristina Solares': 1.0, 'Richard Scheines': 1.0, 'Yuhong Guo': 1.0, 'Jesse Davis': 1.0, 'Gökhan H. Bakir': 1.0}\n"
     ]
    },
    {
     "ename": "KeyboardInterrupt",
     "evalue": "",
     "output_type": "error",
     "traceback": [
      "\u001b[0;31m---------------------------------------------------------------------------\u001b[0m",
      "\u001b[0;31mKeyboardInterrupt\u001b[0m                         Traceback (most recent call last)",
      "Cell \u001b[0;32mIn[4], line 14\u001b[0m\n\u001b[1;32m     12\u001b[0m start_time \u001b[38;5;241m=\u001b[39m time\u001b[38;5;241m.\u001b[39mtime()\n\u001b[1;32m     13\u001b[0m \u001b[38;5;28;01mfor\u001b[39;00m node \u001b[38;5;129;01min\u001b[39;00m influential_nodes:\n\u001b[0;32m---> 14\u001b[0m     subset, comm_eff \u001b[38;5;241m=\u001b[39m al\u001b[38;5;241m.\u001b[39mGreedy(network_main\u001b[38;5;241m.\u001b[39mcopy(), project_net, node, metric_fn\u001b[38;5;241m=\u001b[39mmetric_fn, beta\u001b[38;5;241m=\u001b[39mbeta)\n\u001b[1;32m     15\u001b[0m     \u001b[38;5;28;01mif\u001b[39;00m comm_eff \u001b[38;5;241m>\u001b[39m obj_max_1:\n\u001b[1;32m     16\u001b[0m         obj_max_1 \u001b[38;5;241m=\u001b[39m comm_eff\n",
      "File \u001b[0;32m~/Documents/Projects/team-formation-v2/DBLP-Analysis/algos.py:181\u001b[0m, in \u001b[0;36mGreedy\u001b[0;34m(graph_G, graph_P, seed_node, metric_fn, beta)\u001b[0m\n\u001b[1;32m    179\u001b[0m total_inf \u001b[38;5;241m=\u001b[39m \u001b[38;5;241m0.0\u001b[39m\n\u001b[1;32m    180\u001b[0m \u001b[38;5;28;01mfor\u001b[39;00m node \u001b[38;5;129;01min\u001b[39;00m temp_subset:\n\u001b[0;32m--> 181\u001b[0m     total_inf \u001b[38;5;241m+\u001b[39m\u001b[38;5;241m=\u001b[39m comm_efficiency(graph_G, graph_P, metric_fn, seed_node, temp_subset, beta\u001b[38;5;241m=\u001b[39m\u001b[38;5;28;01mNone\u001b[39;00m)\n\u001b[1;32m    183\u001b[0m old_inf \u001b[38;5;241m=\u001b[39m \u001b[38;5;241m0.0\u001b[39m\n\u001b[1;32m    184\u001b[0m \u001b[38;5;28;01mfor\u001b[39;00m node \u001b[38;5;129;01min\u001b[39;00m subset:\n",
      "File \u001b[0;32m~/Documents/Projects/team-formation-v2/DBLP-Analysis/algos.py:140\u001b[0m, in \u001b[0;36mcomm_efficiency\u001b[0;34m(graph_G, graph_P, metric_fn, seed_node, lead_set, beta)\u001b[0m\n\u001b[1;32m    136\u001b[0m \u001b[38;5;28;01mdef\u001b[39;00m \u001b[38;5;21mcomm_efficiency\u001b[39m(graph_G, graph_P, metric_fn, seed_node, lead_set, beta\u001b[38;5;241m=\u001b[39m\u001b[38;5;28;01mNone\u001b[39;00m):\n\u001b[1;32m    137\u001b[0m \u001b[38;5;250m    \u001b[39m\u001b[38;5;124;03m\"\"\"\u001b[39;00m\n\u001b[1;32m    138\u001b[0m \u001b[38;5;124;03m    Calculate the communication efficiency of the seed node\u001b[39;00m\n\u001b[1;32m    139\u001b[0m \u001b[38;5;124;03m    \"\"\"\u001b[39;00m\n\u001b[0;32m--> 140\u001b[0m     interteam_network \u001b[38;5;241m=\u001b[39m ps\u001b[38;5;241m.\u001b[39msubgraph_by_same_label(graph_G, seed_node)\n\u001b[1;32m    141\u001b[0m     intrateam_network \u001b[38;5;241m=\u001b[39m ps\u001b[38;5;241m.\u001b[39msubgraph_by_label(graph_G, graph_P, seed_node)\n\u001b[1;32m    143\u001b[0m     iter_team \u001b[38;5;241m=\u001b[39m metric_fn(interteam_network, seed_node)\n",
      "File \u001b[0;32m~/Documents/Projects/team-formation-v2/DBLP-Analysis/preprocessing.py:638\u001b[0m, in \u001b[0;36msubgraph_by_same_label\u001b[0;34m(G, node_g)\u001b[0m\n\u001b[1;32m    635\u001b[0m selected_nodes \u001b[38;5;241m=\u001b[39m [n \u001b[38;5;28;01mfor\u001b[39;00m n, attr \u001b[38;5;129;01min\u001b[39;00m G\u001b[38;5;241m.\u001b[39mnodes(data\u001b[38;5;241m=\u001b[39m\u001b[38;5;28;01mTrue\u001b[39;00m) \u001b[38;5;28;01mif\u001b[39;00m attr[\u001b[38;5;124m'\u001b[39m\u001b[38;5;124mlabel\u001b[39m\u001b[38;5;124m'\u001b[39m] \u001b[38;5;241m==\u001b[39m label_g]\n\u001b[1;32m    637\u001b[0m \u001b[38;5;66;03m# Generate the subgraph of the selected nodes\u001b[39;00m\n\u001b[0;32m--> 638\u001b[0m subgraph \u001b[38;5;241m=\u001b[39m G\u001b[38;5;241m.\u001b[39msubgraph(selected_nodes)\u001b[38;5;241m.\u001b[39mcopy()\n\u001b[1;32m    640\u001b[0m \u001b[38;5;28;01mreturn\u001b[39;00m subgraph\n",
      "File \u001b[0;32m/opt/anaconda3/lib/python3.11/site-packages/networkx/classes/graph.py:1643\u001b[0m, in \u001b[0;36mGraph.copy\u001b[0;34m(self, as_view)\u001b[0m\n\u001b[1;32m   1641\u001b[0m G\u001b[38;5;241m.\u001b[39mgraph\u001b[38;5;241m.\u001b[39mupdate(\u001b[38;5;28mself\u001b[39m\u001b[38;5;241m.\u001b[39mgraph)\n\u001b[1;32m   1642\u001b[0m G\u001b[38;5;241m.\u001b[39madd_nodes_from((n, d\u001b[38;5;241m.\u001b[39mcopy()) \u001b[38;5;28;01mfor\u001b[39;00m n, d \u001b[38;5;129;01min\u001b[39;00m \u001b[38;5;28mself\u001b[39m\u001b[38;5;241m.\u001b[39m_node\u001b[38;5;241m.\u001b[39mitems())\n\u001b[0;32m-> 1643\u001b[0m G\u001b[38;5;241m.\u001b[39madd_edges_from(\n\u001b[1;32m   1644\u001b[0m     (u, v, datadict\u001b[38;5;241m.\u001b[39mcopy())\n\u001b[1;32m   1645\u001b[0m     \u001b[38;5;28;01mfor\u001b[39;00m u, nbrs \u001b[38;5;129;01min\u001b[39;00m \u001b[38;5;28mself\u001b[39m\u001b[38;5;241m.\u001b[39m_adj\u001b[38;5;241m.\u001b[39mitems()\n\u001b[1;32m   1646\u001b[0m     \u001b[38;5;28;01mfor\u001b[39;00m v, datadict \u001b[38;5;129;01min\u001b[39;00m nbrs\u001b[38;5;241m.\u001b[39mitems()\n\u001b[1;32m   1647\u001b[0m )\n\u001b[1;32m   1648\u001b[0m \u001b[38;5;28;01mreturn\u001b[39;00m G\n",
      "File \u001b[0;32m/opt/anaconda3/lib/python3.11/site-packages/networkx/classes/graph.py:1016\u001b[0m, in \u001b[0;36mGraph.add_edges_from\u001b[0;34m(self, ebunch_to_add, **attr)\u001b[0m\n\u001b[1;32m    961\u001b[0m \u001b[38;5;28;01mdef\u001b[39;00m \u001b[38;5;21madd_edges_from\u001b[39m(\u001b[38;5;28mself\u001b[39m, ebunch_to_add, \u001b[38;5;241m*\u001b[39m\u001b[38;5;241m*\u001b[39mattr):\n\u001b[1;32m    962\u001b[0m \u001b[38;5;250m    \u001b[39m\u001b[38;5;124;03m\"\"\"Add all the edges in ebunch_to_add.\u001b[39;00m\n\u001b[1;32m    963\u001b[0m \n\u001b[1;32m    964\u001b[0m \u001b[38;5;124;03m    Parameters\u001b[39;00m\n\u001b[0;32m   (...)\u001b[0m\n\u001b[1;32m   1014\u001b[0m \u001b[38;5;124;03m    >>> G.add_edges_from(list((5, n) for n in G.nodes))\u001b[39;00m\n\u001b[1;32m   1015\u001b[0m \u001b[38;5;124;03m    \"\"\"\u001b[39;00m\n\u001b[0;32m-> 1016\u001b[0m     \u001b[38;5;28;01mfor\u001b[39;00m e \u001b[38;5;129;01min\u001b[39;00m ebunch_to_add:\n\u001b[1;32m   1017\u001b[0m         ne \u001b[38;5;241m=\u001b[39m \u001b[38;5;28mlen\u001b[39m(e)\n\u001b[1;32m   1018\u001b[0m         \u001b[38;5;28;01mif\u001b[39;00m ne \u001b[38;5;241m==\u001b[39m \u001b[38;5;241m3\u001b[39m:\n",
      "File \u001b[0;32m/opt/anaconda3/lib/python3.11/site-packages/networkx/classes/graph.py:1643\u001b[0m, in \u001b[0;36m<genexpr>\u001b[0;34m(.0)\u001b[0m\n\u001b[1;32m   1641\u001b[0m G\u001b[38;5;241m.\u001b[39mgraph\u001b[38;5;241m.\u001b[39mupdate(\u001b[38;5;28mself\u001b[39m\u001b[38;5;241m.\u001b[39mgraph)\n\u001b[1;32m   1642\u001b[0m G\u001b[38;5;241m.\u001b[39madd_nodes_from((n, d\u001b[38;5;241m.\u001b[39mcopy()) \u001b[38;5;28;01mfor\u001b[39;00m n, d \u001b[38;5;129;01min\u001b[39;00m \u001b[38;5;28mself\u001b[39m\u001b[38;5;241m.\u001b[39m_node\u001b[38;5;241m.\u001b[39mitems())\n\u001b[0;32m-> 1643\u001b[0m G\u001b[38;5;241m.\u001b[39madd_edges_from(\n\u001b[1;32m   1644\u001b[0m     (u, v, datadict\u001b[38;5;241m.\u001b[39mcopy())\n\u001b[1;32m   1645\u001b[0m     \u001b[38;5;28;01mfor\u001b[39;00m u, nbrs \u001b[38;5;129;01min\u001b[39;00m \u001b[38;5;28mself\u001b[39m\u001b[38;5;241m.\u001b[39m_adj\u001b[38;5;241m.\u001b[39mitems()\n\u001b[1;32m   1646\u001b[0m     \u001b[38;5;28;01mfor\u001b[39;00m v, datadict \u001b[38;5;129;01min\u001b[39;00m nbrs\u001b[38;5;241m.\u001b[39mitems()\n\u001b[1;32m   1647\u001b[0m )\n\u001b[1;32m   1648\u001b[0m \u001b[38;5;28;01mreturn\u001b[39;00m G\n",
      "File \u001b[0;32m<frozen _collections_abc>:860\u001b[0m, in \u001b[0;36m__iter__\u001b[0;34m(self)\u001b[0m\n",
      "File \u001b[0;32m/opt/anaconda3/lib/python3.11/site-packages/networkx/classes/coreviews.py:281\u001b[0m, in \u001b[0;36m<genexpr>\u001b[0;34m(.0)\u001b[0m\n\u001b[1;32m    279\u001b[0m \u001b[38;5;28;01mif\u001b[39;00m node_ok_shorter:\n\u001b[1;32m    280\u001b[0m     \u001b[38;5;28;01mreturn\u001b[39;00m (n \u001b[38;5;28;01mfor\u001b[39;00m n \u001b[38;5;129;01min\u001b[39;00m \u001b[38;5;28mself\u001b[39m\u001b[38;5;241m.\u001b[39mNODE_OK\u001b[38;5;241m.\u001b[39mnodes \u001b[38;5;28;01mif\u001b[39;00m n \u001b[38;5;129;01min\u001b[39;00m \u001b[38;5;28mself\u001b[39m\u001b[38;5;241m.\u001b[39m_atlas)\n\u001b[0;32m--> 281\u001b[0m \u001b[38;5;28;01mreturn\u001b[39;00m (n \u001b[38;5;28;01mfor\u001b[39;00m n \u001b[38;5;129;01min\u001b[39;00m \u001b[38;5;28mself\u001b[39m\u001b[38;5;241m.\u001b[39m_atlas \u001b[38;5;28;01mif\u001b[39;00m \u001b[38;5;28mself\u001b[39m\u001b[38;5;241m.\u001b[39mNODE_OK(n))\n",
      "File \u001b[0;32m/opt/anaconda3/lib/python3.11/site-packages/networkx/classes/coreviews.py:317\u001b[0m, in \u001b[0;36mFilterAdjacency.__getitem__.<locals>.new_node_ok\u001b[0;34m(nbr)\u001b[0m\n\u001b[1;32m    316\u001b[0m \u001b[38;5;28;01mdef\u001b[39;00m \u001b[38;5;21mnew_node_ok\u001b[39m(nbr):\n\u001b[0;32m--> 317\u001b[0m     \u001b[38;5;28;01mreturn\u001b[39;00m \u001b[38;5;28mself\u001b[39m\u001b[38;5;241m.\u001b[39mNODE_OK(nbr) \u001b[38;5;129;01mand\u001b[39;00m \u001b[38;5;28mself\u001b[39m\u001b[38;5;241m.\u001b[39mEDGE_OK(node, nbr)\n",
      "File \u001b[0;32m/opt/anaconda3/lib/python3.11/site-packages/networkx/classes/filters.py:54\u001b[0m, in \u001b[0;36mshow_nodes.__call__\u001b[0;34m(self, node)\u001b[0m\n\u001b[1;32m     51\u001b[0m \u001b[38;5;28;01mdef\u001b[39;00m \u001b[38;5;21m__init__\u001b[39m(\u001b[38;5;28mself\u001b[39m, nodes):\n\u001b[1;32m     52\u001b[0m     \u001b[38;5;28mself\u001b[39m\u001b[38;5;241m.\u001b[39mnodes \u001b[38;5;241m=\u001b[39m \u001b[38;5;28mset\u001b[39m(nodes)\n\u001b[0;32m---> 54\u001b[0m \u001b[38;5;28;01mdef\u001b[39;00m \u001b[38;5;21m__call__\u001b[39m(\u001b[38;5;28mself\u001b[39m, node):\n\u001b[1;32m     55\u001b[0m     \u001b[38;5;28;01mreturn\u001b[39;00m node \u001b[38;5;129;01min\u001b[39;00m \u001b[38;5;28mself\u001b[39m\u001b[38;5;241m.\u001b[39mnodes\n",
      "\u001b[0;31mKeyboardInterrupt\u001b[0m: "
     ]
    }
   ],
   "source": [
    "import time\n",
    "\n",
    "obj_max_1 = 0.0\n",
    "best_set_1 = set()\n",
    "\n",
    "metric_fn = me.compute_closeness_centrality\n",
    "# network_main = ps.remove_edges_based_on_project_network(main_network.copy(), project_net).copy()\n",
    "network_main = main_network.copy()\n",
    "print(\"Influential First\")\n",
    "\n",
    "influential_nodes = al.get_top_node_from_each_group(network_main.copy(), project_net, metric_fn)\n",
    "start_time = time.time()\n",
    "for node in influential_nodes:\n",
    "    subset, comm_eff = al.Greedy(network_main.copy(), project_net, node, metric_fn=metric_fn, beta=beta)\n",
    "    if comm_eff > obj_max_1:\n",
    "        obj_max_1 = comm_eff\n",
    "        best_set_1 = subset\n",
    "\n",
    "end_time = time.time()\n",
    "execution_time = end_time - start_time\n",
    "print(\"Execution time:\", execution_time, \"seconds\")\n",
    "\n",
    "total_inf = sum(al.leader_eff(network_main.copy(), project_net, metric_fn, node, beta=beta) for node in best_set_1)\n",
    "print(\"Coordinators communication efficiency\", total_inf)\n",
    "# print(f\"Objective value : {obj_max_1}\")\n",
    "\n",
    "print(\"Intra-team ranking\")\n",
    "for node in list(best_set_1):\n",
    "    print(f\"Team :{network_main.copy().nodes[node]['label']}, Node: {node}, Rank: {al.intra_team_rank(network_main, metric_fn, node)}\")\n",
    "\n",
    "print(\"\\n\")\n",
    "\n",
    "print(\"Inter-team ranking\")\n",
    "for node in list(best_set_1):\n",
    "    print(f\"Team :{network_main.copy().nodes[node]['label']}, Node: {node}, Rank: {al.inter_team_rank(network_main, project_net, metric_fn, node)}\")"
   ]
  },
  {
   "cell_type": "code",
   "execution_count": null,
   "metadata": {},
   "outputs": [],
   "source": [
    "# obj_max_2 = 0.0\n",
    "# best_set_2 = set()\n",
    "\n",
    "# metric_fn = me.compute_closeness_centrality\n",
    "# network_main = main_network.copy()\n",
    "# print(\"Greedy Algorithm\")\n",
    "\n",
    "# start_time = time.time()\n",
    "# for node in network_main.nodes():\n",
    "#     subset, comm_eff = al.Greedy(network_main.copy(), project_net, node, metric_fn=metric_fn, beta=beta)\n",
    "#     if comm_eff > obj_max_2:\n",
    "#         obj_max_2 = comm_eff\n",
    "#         best_set_2 = subset\n",
    "\n",
    "# end_time = time.time()\n",
    "# execution_time = end_time - start_time\n",
    "# print(\"Execution time:\", execution_time, \"seconds\")\n",
    "\n",
    "# total_inf = sum(al.leader_eff(network_main.copy(), project_net, metric_fn, node, beta=beta) for node in best_set_2)\n",
    "# print(\"Coordinators communication efficiency\", total_inf)\n",
    "# # print(f\"Objective value : {obj_max_2}\")\n",
    "\n",
    "# print(\"Intra-team ranking\")\n",
    "# for node in list(best_set_2):\n",
    "#     print(f\"Team :{network_main.copy().nodes[node]['label']}, Node: {node}, Rank: {al.intra_team_rank(network_main, metric_fn, node)}\")\n",
    "\n",
    "# print(\"\\n\")\n",
    "\n",
    "# print(\"Inter-team ranking\")\n",
    "# for node in list(best_set_2):\n",
    "#     print(f\"Team :{network_main.copy().nodes[node]['label']}, Node: {node}, Rank: {al.inter_team_rank(network_main, project_net, metric_fn, node)}\")"
   ]
  },
  {
   "cell_type": "code",
   "execution_count": null,
   "metadata": {},
   "outputs": [],
   "source": [
    "# Using Influence Team Strategy\n",
    "metric_fn = me.compute_closeness_centrality\n",
    "network_main = main_network.copy()\n",
    "al.inteam_influence_only(network_main, project_net, metric_fn)"
   ]
  },
  {
   "cell_type": "code",
   "execution_count": null,
   "metadata": {},
   "outputs": [],
   "source": [
    "# Using Random Strategy\n",
    "num_iter = 1000\n",
    "metric_fn = me.compute_closeness_centrality\n",
    "network_main = main_network.copy()\n",
    "al.randomMonteCarlo(network_main, project_net, metric_fn, num_iter)"
   ]
  },
  {
   "cell_type": "code",
   "execution_count": null,
   "metadata": {},
   "outputs": [],
   "source": [
    "# netty = ps.subgraph_by_same_label(network_main, \"Hiroshi Nakagawa\")\n",
    "# import networkx as nx\n",
    "# import matplotlib.pyplot as plt\n",
    "\n",
    "# # Plot the netty graph\n",
    "# nx.draw(network_main, with_labels=True)\n",
    "# plt.show()"
   ]
  },
  {
   "cell_type": "code",
   "execution_count": null,
   "metadata": {},
   "outputs": [],
   "source": [
    "# network_main.nodes[\"Avrim Blum\"]"
   ]
  },
  {
   "cell_type": "code",
   "execution_count": null,
   "metadata": {},
   "outputs": [],
   "source": [
    "# netty = network_main.copy()\n",
    "\n",
    "# elarge = [(u, v) for (u, v, d) in netty.edges(data=True) if d[\"weight\"] > 0.5]\n",
    "# esmall = [(u, v) for (u, v, d) in netty.edges(data=True) if d[\"weight\"] <= 0.5]\n",
    "\n",
    "# pos = nx.spring_layout(netty, seed=7)  # positions for all nodes - seed for reproducibility\n",
    "\n",
    "# # nodes\n",
    "# nx.draw_networkx_nodes(netty, pos, node_size=700)\n",
    "\n",
    "# # edges\n",
    "# nx.draw_networkx_edges(netty, pos, edgelist=elarge, width=6)\n",
    "# nx.draw_networkx_edges(\n",
    "#     netty, pos, edgelist=esmall, width=6, alpha=0.5, edge_color=\"b\", style=\"dashed\"\n",
    "# )\n",
    "\n",
    "# # node labels\n",
    "# nx.draw_networkx_labels(netty, pos, font_size=20, font_family=\"sans-serif\")\n",
    "# # edge weight labels\n",
    "# edge_labels = nx.get_edge_attributes(netty, \"weight\")\n",
    "# nx.draw_networkx_edge_labels(netty, pos, edge_labels)\n",
    "\n",
    "# ax = plt.gca()\n",
    "# ax.margins(0.08)\n",
    "# plt.axis(\"off\")\n",
    "# plt.tight_layout()\n",
    "# plt.show()"
   ]
  },
  {
   "cell_type": "code",
   "execution_count": null,
   "metadata": {},
   "outputs": [],
   "source": [
    "# netty.edges(data=True)"
   ]
  }
 ],
 "metadata": {
  "kernelspec": {
   "display_name": "base",
   "language": "python",
   "name": "python3"
  },
  "language_info": {
   "codemirror_mode": {
    "name": "ipython",
    "version": 3
   },
   "file_extension": ".py",
   "mimetype": "text/x-python",
   "name": "python",
   "nbconvert_exporter": "python",
   "pygments_lexer": "ipython3",
   "version": "3.11.5"
  }
 },
 "nbformat": 4,
 "nbformat_minor": 2
}
