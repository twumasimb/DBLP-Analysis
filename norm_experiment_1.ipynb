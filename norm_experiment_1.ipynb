{
 "cells": [
  {
   "cell_type": "markdown",
   "metadata": {},
   "source": [
    "I am going to use the following metric functions\n",
    "1. closeness\n",
    "2. degree\n",
    "3. betweenness"
   ]
  },
  {
   "cell_type": "code",
   "execution_count": 1,
   "metadata": {},
   "outputs": [],
   "source": [
    "import preprocessing as ps\n",
    "import numpy as np\n",
    "import networkx as nx\n",
    "import pickle\n",
    "import matplotlib.pyplot as plt\n",
    "import random\n",
    "random.seed(42)\n",
    "import csv\n",
    "import algos as al\n",
    "import metrics as me"
   ]
  },
  {
   "cell_type": "code",
   "execution_count": 2,
   "metadata": {},
   "outputs": [],
   "source": [
    "# create the project networks\n",
    "list_1 = [('DM', 'T'), ('DB', 'T'), ('AI', 'T')]\n",
    "list_2 = [('DM', 'T'), ('DB', 'T'), ('AI', 'T'), ('DM', 'DB'), ('DM', 'AI'), ('DB', 'AI')]\n",
    "list_3 = [('DM', 'T'), ('DB', 'T'), ('AI', 'DB')]\n",
    "\n",
    "star_proj = ps.createProjectNetwork(list_1)\n",
    "full_proj = ps.createProjectNetwork(list_2)\n",
    "chain_proj = ps.createProjectNetwork(list_3)\n",
    "\n",
    "main_network = pickle.load(open(f\"./networks/new_subnets/20_nodes.pkl\", 'rb'))\n",
    "project_net = chain_proj\n",
    "beta = None"
   ]
  },
  {
   "cell_type": "code",
   "execution_count": 3,
   "metadata": {},
   "outputs": [
    {
     "name": "stdout",
     "output_type": "stream",
     "text": [
      "Influential First\n",
      "Execution time: 4.625817775726318 seconds\n",
      "Coordinators communication efficiency 573.1199849724558\n",
      "Intra-team ranking\n",
      "Team :AI, Node: Joris M. Mooij, Rank: 1\n",
      "Team :T, Node: Bogdan S. Chlebus, Rank: 16\n",
      "Team :DB, Node: Stefan Krompass, Rank: 1\n",
      "Team :DM, Node: Qiang Yang, Rank: 1\n"
     ]
    }
   ],
   "source": [
    "import time\n",
    "\n",
    "obj_max_1 = 0.0\n",
    "best_set_1 = set()\n",
    "\n",
    "metric_fn = me.compute_closeness_centrality\n",
    "network_main = main_network.copy()\n",
    "print(\"Influential First\")\n",
    "\n",
    "influential_nodes = al.get_top_node_from_each_group(network_main.copy(), project_net, metric_fn)\n",
    "start_time = time.time()\n",
    "for node in influential_nodes:\n",
    "    subset, comm_eff = al.Greedy(network_main.copy(), project_net, node, metric_fn=metric_fn, beta=beta)\n",
    "    if comm_eff > obj_max_1:\n",
    "        obj_max_1 = comm_eff\n",
    "        best_set_1 = subset\n",
    "\n",
    "end_time = time.time()\n",
    "execution_time = end_time - start_time\n",
    "print(\"Execution time:\", execution_time, \"seconds\")\n",
    "\n",
    "total_inf = sum(al.leader_eff(network_main.copy(), project_net, metric_fn, node, beta=beta) for node in best_set_1)\n",
    "print(\"Coordinators communication efficiency\", total_inf)\n",
    "# print(f\"Objective value : {obj_max_1}\")\n",
    "\n",
    "print(\"Intra-team ranking\")\n",
    "for node in list(best_set_1):\n",
    "    print(f\"Team :{network_main.copy().nodes[node]['label']}, Node: {node}, Rank: {al.intra_team_rank(network_main, metric_fn, node)}\")\n",
    "\n",
    "# print(\"\\n\")\n",
    "\n",
    "# print(\"Inter-team ranking\")\n",
    "# for node in list(best_set_1):\n",
    "#     print(f\"Team :{network_main.copy().nodes[node]['label']}, Node: {node}, Rank: {al.inter_team_rank(network_main, project_net, metric_fn, node)}\")"
   ]
  },
  {
   "cell_type": "code",
   "execution_count": 4,
   "metadata": {},
   "outputs": [
    {
     "name": "stdout",
     "output_type": "stream",
     "text": [
      "Greedy Algorithm\n",
      "Execution time: 120.71787571907043 seconds\n",
      "Coordinators communication efficiency 573.1199849724558\n",
      "Intra-team ranking\n",
      "Team :AI, Node: Joris M. Mooij, Rank: 1\n",
      "Team :T, Node: Bogdan S. Chlebus, Rank: 16\n",
      "Team :DB, Node: Stefan Krompass, Rank: 1\n",
      "Team :DM, Node: Qiang Yang, Rank: 1\n"
     ]
    }
   ],
   "source": [
    "obj_max_2 = 0.0\n",
    "best_set_2 = set()\n",
    "\n",
    "metric_fn = me.compute_closeness_centrality\n",
    "network_main = main_network.copy()\n",
    "print(\"Greedy Algorithm\")\n",
    "\n",
    "start_time = time.time()\n",
    "for node in network_main.nodes():\n",
    "    subset, comm_eff = al.Greedy(network_main.copy(), project_net, node, metric_fn=metric_fn, beta=beta)\n",
    "    if comm_eff > obj_max_2:\n",
    "        obj_max_2 = comm_eff\n",
    "        best_set_2 = subset\n",
    "\n",
    "end_time = time.time()\n",
    "execution_time = end_time - start_time\n",
    "print(\"Execution time:\", execution_time, \"seconds\")\n",
    "\n",
    "total_inf = sum(al.leader_eff(network_main.copy(), project_net, metric_fn, node, beta=beta) for node in best_set_2)\n",
    "print(\"Coordinators communication efficiency\", total_inf)\n",
    "# print(f\"Objective value : {obj_max_2}\")\n",
    "\n",
    "print(\"Intra-team ranking\")\n",
    "for node in list(best_set_2):\n",
    "    print(f\"Team :{network_main.copy().nodes[node]['label']}, Node: {node}, Rank: {al.intra_team_rank(network_main, metric_fn, node)}\")\n",
    "\n",
    "# print(\"\\n\")\n",
    "\n",
    "# print(\"Inter-team ranking\")\n",
    "# for node in list(best_set_2):\n",
    "#     print(f\"Team :{network_main.copy().nodes[node]['label']}, Node: {node}, Rank: {al.inter_team_rank(network_main, project_net, metric_fn, node)}\")"
   ]
  },
  {
   "cell_type": "code",
   "execution_count": 5,
   "metadata": {},
   "outputs": [
    {
     "name": "stdout",
     "output_type": "stream",
     "text": [
      "Intra-team ranking\n",
      "Team :T, Node: Kenneth W. Regan, Rank: 1\n",
      "Team :AI, Node: Joris M. Mooij, Rank: 1\n",
      "Team :DB, Node: Stefan Krompass, Rank: 1\n",
      "Team :DM, Node: Qiang Yang, Rank: 1\n",
      "\n",
      "\n"
     ]
    },
    {
     "data": {
      "text/plain": [
       "564.1673742806807"
      ]
     },
     "execution_count": 5,
     "metadata": {},
     "output_type": "execute_result"
    }
   ],
   "source": [
    "# Using Influence Team Strategy\n",
    "metric_fn = me.compute_closeness_centrality\n",
    "network_main = main_network.copy()\n",
    "al.inteam_influence_only(network_main, project_net, metric_fn)"
   ]
  },
  {
   "cell_type": "code",
   "execution_count": 6,
   "metadata": {},
   "outputs": [
    {
     "data": {
      "text/plain": [
       "441.78"
      ]
     },
     "execution_count": 6,
     "metadata": {},
     "output_type": "execute_result"
    }
   ],
   "source": [
    "# Using Random Strategy\n",
    "num_iter = 1000\n",
    "metric_fn = me.compute_closeness_centrality\n",
    "network_main = main_network.copy()\n",
    "al.randomMonteCarlo(network_main, project_net, metric_fn, num_iter)"
   ]
  }
 ],
 "metadata": {
  "kernelspec": {
   "display_name": "base",
   "language": "python",
   "name": "python3"
  },
  "language_info": {
   "codemirror_mode": {
    "name": "ipython",
    "version": 3
   },
   "file_extension": ".py",
   "mimetype": "text/x-python",
   "name": "python",
   "nbconvert_exporter": "python",
   "pygments_lexer": "ipython3",
   "version": "3.11.5"
  }
 },
 "nbformat": 4,
 "nbformat_minor": 2
}
