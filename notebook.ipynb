{
 "cells": [
  {
   "cell_type": "code",
   "execution_count": 1,
   "metadata": {},
   "outputs": [],
   "source": [
    "import pickle\n",
    "import networkx as nx\n",
    "import random\n",
    "import chime"
   ]
  },
  {
   "cell_type": "code",
   "execution_count": 2,
   "metadata": {},
   "outputs": [],
   "source": [
    "network = pickle.load(open('new_weighted_network.pkl', 'rb')).copy()"
   ]
  },
  {
   "cell_type": "code",
   "execution_count": 6,
   "metadata": {},
   "outputs": [
    {
     "data": {
      "text/plain": [
       "{'id': 2,\n",
       " 'author': 'Stephen A. Block',\n",
       " 'coauthors': ['Brian C. Williams', 'Andreas F. Wehowsky'],\n",
       " 'venues': ['AAAI'],\n",
       " 'papers': ['Robust Execution on Contingent, Temporally Flexible Plans.'],\n",
       " 'num_of_papers': 1,\n",
       " 'influence': 98.9531479032495}"
      ]
     },
     "execution_count": 6,
     "metadata": {},
     "output_type": "execute_result"
    }
   ],
   "source": [
    "network.nodes[2]"
   ]
  },
  {
   "cell_type": "code",
   "execution_count": 2,
   "metadata": {},
   "outputs": [],
   "source": [
    "import utils_2 as utils\n",
    "utils.parse_and_save_paper_data('dblp_data.txt', 'dblp_data.pkl')"
   ]
  },
  {
   "cell_type": "code",
   "execution_count": 3,
   "metadata": {},
   "outputs": [],
   "source": [
    "data = pickle.load(open('dblp_data.pkl', 'rb'))"
   ]
  },
  {
   "cell_type": "code",
   "execution_count": 9,
   "metadata": {},
   "outputs": [
    {
     "data": {
      "text/plain": [
       "{'title': 'How to Set Up and Maintain a World Wide Web Site: The Guide for Information Providers.',\n",
       " 'authors': ['Lincoln Stein'],\n",
       " 'year': 1995,\n",
       " 'venue': ''}"
      ]
     },
     "execution_count": 9,
     "metadata": {},
     "output_type": "execute_result"
    }
   ],
   "source": [
    "data[90]"
   ]
  },
  {
   "cell_type": "code",
   "execution_count": 12,
   "metadata": {},
   "outputs": [
    {
     "name": "stdout",
     "output_type": "stream",
     "text": [
      "1936\n"
     ]
    }
   ],
   "source": [
    "min_year = min(item['year'] for item in data if 'year' in item and item['year'] > -1)\n",
    "print(min_year)"
   ]
  },
  {
   "cell_type": "code",
   "execution_count": 13,
   "metadata": {},
   "outputs": [],
   "source": [
    "def save_sample_data(data, file_name: str, start_year: int, end_year: int):\n",
    "    \"\"\"\n",
    "    Filter the input data based on the 'year' key and save the filtered data to a pickle file.\n",
    "\n",
    "    Args:\n",
    "        data (list): A list of dictionaries representing the input data.\n",
    "\n",
    "    Returns:\n",
    "        None\n",
    "    \"\"\"\n",
    "    sample_data = [item for item in data if 'year' in item and start_year <= item['year'] <= end_year]\n",
    "    with open(f'{file_name}.pkl', 'wb') as file:\n",
    "        pickle.dump(sample_data, file)"
   ]
  },
  {
   "cell_type": "code",
   "execution_count": 15,
   "metadata": {},
   "outputs": [
    {
     "name": "stdout",
     "output_type": "stream",
     "text": [
      "AAAI: 3692\n",
      "IJCAI: 4479\n",
      "NIPS: 3619\n",
      "AAMAS: 1663\n",
      "KDD: 1531\n"
     ]
    }
   ],
   "source": [
    "venues = ['AAAI', 'IJCAI', 'NIPS', 'AAMAS', 'KDD']\n",
    "counts = {venue: 0 for venue in venues}\n",
    "\n",
    "for item in data:\n",
    "    if 'venue' in item and item['venue'] in venues:\n",
    "        counts[item['venue']] += 1\n",
    "\n",
    "for venue, count in counts.items():\n",
    "    print(f'{venue}: {count}')"
   ]
  },
  {
   "cell_type": "code",
   "execution_count": 16,
   "metadata": {},
   "outputs": [],
   "source": [
    "venues = ['AAAI', 'IJCAI', 'NIPS', 'AAMAS', 'KDD']\n",
    "\n",
    "import pickle\n",
    "\n",
    "def sample_by_venue(data, venues: list, file_name: str):\n",
    "    \"\"\"\n",
    "    Save a subset of data based on specified venues to a pickle file.\n",
    "\n",
    "    Args:\n",
    "        data (list): The input data to filter.\n",
    "        venues (list): A list of venues to filter the data by.\n",
    "        file_name (str): The name of the output file (without the extension).\n",
    "\n",
    "    Returns:\n",
    "        None\n",
    "    \"\"\"\n",
    "    sample_data = [item for item in data if 'venue' in item and item['venue'] in venues]\n",
    "\n",
    "    with open(f'{file_name}.pkl', 'wb') as file:\n",
    "        pickle.dump(sample_data, file)\n"
   ]
  },
  {
   "cell_type": "code",
   "execution_count": null,
   "metadata": {},
   "outputs": [],
   "source": []
  }
 ],
 "metadata": {
  "kernelspec": {
   "display_name": "Python 3",
   "language": "python",
   "name": "python3"
  },
  "language_info": {
   "codemirror_mode": {
    "name": "ipython",
    "version": 3
   },
   "file_extension": ".py",
   "mimetype": "text/x-python",
   "name": "python",
   "nbconvert_exporter": "python",
   "pygments_lexer": "ipython3",
   "version": "3.10.5"
  }
 },
 "nbformat": 4,
 "nbformat_minor": 2
}
