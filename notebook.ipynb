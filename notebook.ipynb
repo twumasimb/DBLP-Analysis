{
 "cells": [
  {
   "cell_type": "code",
   "execution_count": null,
   "metadata": {},
   "outputs": [],
   "source": [
    "import pickle\n",
    "import networkx as nx\n",
    "import random"
   ]
  },
  {
   "cell_type": "code",
   "execution_count": null,
   "metadata": {},
   "outputs": [],
   "source": [
    "data = pickle.load(open('weighted_network.pkl', 'rb'))"
   ]
  },
  {
   "cell_type": "code",
   "execution_count": null,
   "metadata": {},
   "outputs": [],
   "source": [
    "network = data.copy()\n",
    "for node in network.nodes:\n",
    "    num_papers = len(network.nodes[node][\"papers\"])\n",
    "    num_coauthors = len(network.nodes[node][\"coauthors\"])\n",
    "    influence = num_papers + 1.5 * num_coauthors\n",
    "    network.add_node(node, influence=influence)"
   ]
  },
  {
   "cell_type": "markdown",
   "metadata": {},
   "source": [
    "### Functions"
   ]
  },
  {
   "cell_type": "code",
   "execution_count": null,
   "metadata": {},
   "outputs": [],
   "source": [
    "def randomAlgo(network):\n",
    "\n",
    "    # Assuming G is your graph\n",
    "    venues = nx.get_node_attributes(network, 'venues').values()\n",
    "\n",
    "    # Flatten the list of venues\n",
    "    flattened_venues = [venue for sublist in venues for venue in sublist]\n",
    "\n",
    "    # Get unique venues\n",
    "    unique_venues = set(flattened_venues)\n",
    "\n",
    "    selected_nodes = {}\n",
    "    for venue in unique_venues:\n",
    "        # get nodes with this venue\n",
    "        nodes = [n for n, v in nx.get_node_attributes(network, 'venues').items() if venue in v]\n",
    "        \n",
    "        # randomly select a node\n",
    "        selected_node = random.choice(nodes)\n",
    "        \n",
    "        selected_nodes[venue] = selected_node\n",
    "\n",
    "    return selected_nodes.values()"
   ]
  },
  {
   "cell_type": "code",
   "execution_count": null,
   "metadata": {},
   "outputs": [],
   "source": [
    "def remove_edges_based_on_project_network(expert_network, project_network):\n",
    "    edges_to_remove = []\n",
    "\n",
    "    for edge in expert_network.edges():\n",
    "        node1_label = expert_network.nodes[edge[0]]['venues'][0]\n",
    "        node2_label = expert_network.nodes[edge[1]]['venues'][0]\n",
    "\n",
    "        if not project_network.has_edge(node1_label, node2_label):\n",
    "            edges_to_remove.append(edge)\n",
    "\n",
    "    expert_network.remove_edges_from(edges_to_remove)\n",
    "\n",
    "    return expert_network"
   ]
  },
  {
   "cell_type": "code",
   "execution_count": null,
   "metadata": {},
   "outputs": [],
   "source": [
    "def compute_influence(graph):\n",
    "    if graph is None:\n",
    "        print(\"Error: Graph is None.\")\n",
    "        return None\n",
    "\n",
    "    for node in graph.nodes:\n",
    "        total_weight = sum(edge['weight']\n",
    "                           for _, _, edge in graph.edges(node, data=True))\n",
    "        graph.nodes[node]['influence'] = total_weight\n",
    "\n",
    "    # Scale scores to 100\n",
    "    max_influence = max(graph.nodes[node]['influence'] for node in graph.nodes)\n",
    "    scale_factor = 100 / max_influence\n",
    "\n",
    "    for node in graph.nodes:\n",
    "        graph.nodes[node]['influence'] *= scale_factor\n",
    "\n",
    "    return graph"
   ]
  },
  {
   "cell_type": "code",
   "execution_count": null,
   "metadata": {},
   "outputs": [],
   "source": [
    "def get_top_node_per_venue(graph):\n",
    "    top_nodes = {}\n",
    "    nodes = []\n",
    "    graph = compute_influence(graph)\n",
    "    for node in graph.nodes:\n",
    "        venue = graph.nodes[node]['venues'][0]\n",
    "        if venue not in top_nodes:\n",
    "            top_nodes[venue] = node\n",
    "        elif graph.nodes[node]['influence'] > graph.nodes[top_nodes[venue]]['influence']:\n",
    "            top_nodes[venue] = node\n",
    "\n",
    "    return top_nodes, list(top_nodes.values())"
   ]
  },
  {
   "cell_type": "code",
   "execution_count": null,
   "metadata": {},
   "outputs": [],
   "source": [
    "def createProjectNetwork(list):\n",
    "    project = nx.Graph()\n",
    "    project.add_edges_from(list)\n",
    "    return project"
   ]
  },
  {
   "cell_type": "code",
   "execution_count": null,
   "metadata": {},
   "outputs": [],
   "source": [
    "def sum_edge_weights(graph):\n",
    "    total_weight = 0\n",
    "\n",
    "    for _, _, data in graph.edges(data=True):\n",
    "        if 'weight' in data:\n",
    "            total_weight += data['weight']\n",
    "\n",
    "    return total_weight"
   ]
  },
  {
   "cell_type": "code",
   "execution_count": null,
   "metadata": {},
   "outputs": [],
   "source": [
    "def monte_carlo(f, graph_G, graph_P, num_iter):\n",
    "    comm_eff = 0\n",
    "    # selected_nodes = set()\n",
    "    for i in range(num_iter):\n",
    "        best = f(graph_G, graph_P)\n",
    "        # selected_nodes = selected_nodes.union(set(best.nodes))\n",
    "        eff = sum_edge_weights(best)\n",
    "        comm_eff = comm_eff + eff\n",
    "    avg_comm_eff = comm_eff/num_iter\n",
    "    # print(f\"Selected nodes: {selected_nodes}\")\n",
    "    print(f\"Average Communication efficiency is : {avg_comm_eff}\")\n",
    "\n",
    "    return round(avg_comm_eff, 2)"
   ]
  },
  {
   "cell_type": "code",
   "execution_count": null,
   "metadata": {},
   "outputs": [],
   "source": [
    "def randomGreedy(graph_G, graph_P):\n",
    "    if graph_G is None or graph_P is None:\n",
    "        print(\"Error: One or both of the graphs is None.\")\n",
    "        return None\n",
    "\n",
    "    if len(graph_P.nodes) > len(graph_G.nodes):\n",
    "        print(\"Error: Number of nodes in P is greater than the number of nodes in G.\")\n",
    "        return None\n",
    "\n",
    "    # Start with a random node from G\n",
    "    key = random.choice(list(graph_G.nodes))\n",
    "    # print(f'key = {key}')\n",
    "    subset = set()\n",
    "    subset.add(key)\n",
    "    labels = []\n",
    "    labels.append(graph_G.nodes[key]['venues'][0])\n",
    "\n",
    "    while len(subset) < len(graph_P.nodes):\n",
    "        best_node = None\n",
    "        min_total_edge_weight = 0.0\n",
    "\n",
    "        # Iterate over nodes in G not in the subset\n",
    "        for node in set(graph_G.nodes) - subset:\n",
    "            # Create a temporary subset with the new node\n",
    "            temp_subset = subset.copy()\n",
    "            if graph_G.nodes[node]['venues'][0] not in labels:\n",
    "                temp_subset.add(node)\n",
    "\n",
    "                # Calculate the total edge weight in the subgraph\n",
    "                total_edge_weight = sum_edge_weights(\n",
    "                    graph_G.subgraph(temp_subset))\n",
    "\n",
    "                # Update the best node if the current node minimizes the total edge weight\n",
    "                if total_edge_weight > min_total_edge_weight:\n",
    "                    min_total_edge_weight = total_edge_weight\n",
    "                    best_node = node\n",
    "                    # print(f'best_node: {best_node}')\n",
    "\n",
    "        # Check if a suitable node was found\n",
    "        if best_node is not None:\n",
    "            # Add the best node to the subset\n",
    "            subset.add(best_node)\n",
    "            labels.append(graph_G.nodes[best_node]['venues'][0])\n",
    "        else:\n",
    "            print(\"Warning: No suitable node found. Terminating the loop.\")\n",
    "            break\n",
    "\n",
    "    return graph_G.subgraph(subset)"
   ]
  },
  {
   "cell_type": "code",
   "execution_count": null,
   "metadata": {},
   "outputs": [],
   "source": [
    "def influenceGreedy(graph_G, graph_P):\n",
    "    if graph_G is None or graph_P is None:\n",
    "        print(\"Error: One or both of the graphs is None.\")\n",
    "        return None\n",
    "\n",
    "    if len(graph_P.nodes) > len(graph_G.nodes):\n",
    "        print(\"Error: Number of nodes in P is greater than the number of nodes in G.\")\n",
    "        return None\n",
    "\n",
    "    # Start with a random node from influence set\n",
    "    top_nodes = get_top_node_per_venue(graph_G)\n",
    "    key = random.choice(top_nodes[1])\n",
    "    subset = set()\n",
    "    subset.add(key)\n",
    "    labels = []\n",
    "    labels.append(graph_G.nodes[key]['venues'][0])\n",
    "    \n",
    "    while len(subset) < len(graph_P.nodes):\n",
    "        best_node = None\n",
    "        min_total_edge_weight = 0.0\n",
    "\n",
    "        # Iterate over nodes in G not in the subset\n",
    "        for node in set(graph_G.nodes) - subset:\n",
    "            # Create a temporary subset with the new node\n",
    "            temp_subset = subset.copy()\n",
    "            if graph_G.nodes[node]['venues'][0] not in labels:\n",
    "                temp_subset.add(node)\n",
    "\n",
    "                # Calculate the total edge weight in the subgraph\n",
    "                total_edge_weight = sum_edge_weights(graph_G.subgraph(temp_subset))\n",
    "\n",
    "                # Update the best node if the current node minimizes the total edge weight\n",
    "                if total_edge_weight > min_total_edge_weight:\n",
    "                    min_total_edge_weight = total_edge_weight\n",
    "                    best_node = node\n",
    "\n",
    "        # Add the best node to the subset\n",
    "        subset.add(best_node)\n",
    "        labels.append(graph_G.nodes[best_node]['venues'][0])\n",
    "\n",
    "    return graph_G.subgraph(subset)"
   ]
  },
  {
   "cell_type": "markdown",
   "metadata": {},
   "source": [
    "### Experiments"
   ]
  },
  {
   "cell_type": "code",
   "execution_count": null,
   "metadata": {},
   "outputs": [],
   "source": [
    "top_10_authors = []\n",
    "# Create subgraphs for each conference with the top 10 authors by the number of papers\n",
    "conferences = []\n",
    "for venue in nx.get_node_attributes(network, 'venues').values():\n",
    "    conferences.extend(venue)\n",
    "\n",
    "for conference in set(conferences):\n",
    "    conference_authors = [author for author, data in network.nodes(data=True) if data['venues'][0] == conference]\n",
    "    top_authors = sorted(conference_authors, key=lambda author: network.nodes[author]['influence'], reverse=True)[:10]\n",
    "    top_10_authors.extend(top_authors)\n",
    "\n",
    "subgraph = network.subgraph(top_10_authors)"
   ]
  },
  {
   "cell_type": "code",
   "execution_count": null,
   "metadata": {},
   "outputs": [],
   "source": [
    "get_top_node_per_venue(subgraph)"
   ]
  },
  {
   "cell_type": "code",
   "execution_count": null,
   "metadata": {},
   "outputs": [],
   "source": [
    "# Fully connected project network\n",
    "\n",
    "project_1 = [('NIPS', 'IJCAI'), ('NIPS', 'AAAI'), ('NIPS', 'AAMAS'), ('NIPS', 'KDD'), ('IJCAI', 'AAAI'), ('IJCAI', 'AAMAS'), ('IJCAI', 'KDD'), ('AAAI', 'AAMAS'), ('AAAI', 'KDD'), ('AAMAS', 'KDD')]\n",
    "project_1 = createProjectNetwork(project_1)\n",
    "# Remove Edges to match project network\n",
    "network_based_on_project_1 = remove_edges_based_on_project_network(subgraph.copy(), project_1)"
   ]
  },
  {
   "cell_type": "code",
   "execution_count": null,
   "metadata": {},
   "outputs": [],
   "source": [
    "# Star connected project network\n",
    "\n",
    "project_2 = [('NIPS', 'KDD'), ('IJCAI', 'KDD'), ('AAAI', 'KDD'), ('AAMAS', 'KDD')]\n",
    "project_2 = createProjectNetwork(project_2)\n",
    "# Remove Edges to match project network\n",
    "network_based_on_project_2 = remove_edges_based_on_project_network(subgraph.copy(), project_2)"
   ]
  },
  {
   "cell_type": "code",
   "execution_count": null,
   "metadata": {},
   "outputs": [],
   "source": [
    "random_coordinators = randomGreedy(network_based_on_project_2, project_2)\n",
    "for node in random_coordinators.nodes:\n",
    "    print(f'{node}: {random_coordinators.nodes[node][\"venues\"][0]}')"
   ]
  },
  {
   "cell_type": "code",
   "execution_count": null,
   "metadata": {},
   "outputs": [],
   "source": [
    "influence_greedy_coordinators = influenceGreedy(network_based_on_project_1, project_1)\n",
    "for node in influence_greedy_coordinators.nodes:\n",
    "    print(f'{node}: {influence_greedy_coordinators.nodes[node][\"venues\"][0]}')"
   ]
  },
  {
   "cell_type": "markdown",
   "metadata": {},
   "source": [
    "### Project 2"
   ]
  },
  {
   "cell_type": "code",
   "execution_count": null,
   "metadata": {},
   "outputs": [],
   "source": [
    "avg_comm_eff = monte_carlo(randomGreedy,network_based_on_project_2, project_2, 10000)"
   ]
  },
  {
   "cell_type": "code",
   "execution_count": null,
   "metadata": {},
   "outputs": [],
   "source": [
    "avg_comm_eff = monte_carlo(influenceGreedy,network_based_on_project_2, project_2, 10000)"
   ]
  },
  {
   "cell_type": "markdown",
   "metadata": {},
   "source": [
    "### Project 1"
   ]
  },
  {
   "cell_type": "code",
   "execution_count": null,
   "metadata": {},
   "outputs": [],
   "source": [
    "avg_comm_eff = monte_carlo(randomGreedy,network_based_on_project_1, project_1, 10000)"
   ]
  },
  {
   "cell_type": "code",
   "execution_count": null,
   "metadata": {},
   "outputs": [],
   "source": [
    "avg_comm_eff = monte_carlo(influenceGreedy,network_based_on_project_1, project_1, 10000)"
   ]
  },
  {
   "cell_type": "code",
   "execution_count": null,
   "metadata": {},
   "outputs": [],
   "source": [
    "round(sum_edge_weights(network_based_on_project_2.subgraph(randomAlgo(network_based_on_project_2))), 2)"
   ]
  }
 ],
 "metadata": {
  "kernelspec": {
   "display_name": "Python 3",
   "language": "python",
   "name": "python3"
  },
  "language_info": {
   "codemirror_mode": {
    "name": "ipython",
    "version": 3
   },
   "file_extension": ".py",
   "mimetype": "text/x-python",
   "name": "python",
   "nbconvert_exporter": "python",
   "pygments_lexer": "ipython3",
   "version": "3.10.5"
  }
 },
 "nbformat": 4,
 "nbformat_minor": 2
}
